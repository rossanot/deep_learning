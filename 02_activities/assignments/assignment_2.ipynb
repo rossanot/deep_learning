{
  "cells": [
    {
      "cell_type": "markdown",
      "id": "197fbb2d",
      "metadata": {
        "id": "197fbb2d"
      },
      "source": [
        "# Assignment 2 – Zero-Shot Image Classification with Transformers\n",
        "\n",
        "In this assignment, you will apply a pre-trained vision–language transformer (e.g. CLIP) to perform **zero-shot** classification on the Fashion-MNIST dataset—classifying each image without any task-specific training. You will build on the concepts from Assignment 1 by comparing this “off-the-shelf” approach to the CNN you previously trained.\n",
        "\n",
        "You will:\n",
        "1. **Load** the Fashion-MNIST images using PyTorch instead of Keras.\n",
        "2. **Run a zero-shot baseline** with simple text prompts to set a performance reference.\n",
        "3. **Engineer improved prompts** and measure the resulting accuracy gains.\n",
        "4. **Visualise image embeddings** with UMAP to inspect class separability.\n",
        "5. **Conduct one mini-experiment** of your choice.\n",
        "6. **Summarise findings** and reflect on strengths and weaknesses of zero-shot transformers versus a trained CNN.\n",
        "\n",
        "# 1. Loading the Fashion-MNIST Dataset\n",
        "\n",
        "As in assignment 1, we'll load the Fashion-MNIST dataset, but this time using `torchvision.datasets` to ensure compatibility with the `transformers` library. We will also load our model and processor from the `transformers` library.\n",
        "\n",
        "The transformers library allows us to use pre-trained models like CLIP, which can perform zero-shot classification by leveraging the text prompts we provide. There are two key objects we will use: the `CLIPModel` for the model itself and the `CLIPProcessor` for preparing our images and text prompts.\n",
        "\n",
        "Since we are not actually training a model in this assignment, we will set the CLIP model to evaluation mode. If the model is designed to utilize features like dropout or batch normalization, setting it to evaluation mode ensures that these features behave correctly during inference (prediction). Setting the model to evaluaton mode also tells PyTorch that we don't have to compute gradients, which can save memory and speed up inference.\n",
        "\n",
        "In order to speed up processing, we will also move the model to an \"accelerator\" if available. This is typically a GPU, but modern MacBooks also have an \"Apple Silicon\" accelerator that can be used for inference, called MPS (Metal Performance Shaders). If you are using a MacBook with Apple Silicon, you can use the MPS device for faster processing."
      ]
    },
    {
      "cell_type": "code",
      "source": [
        "from transformers import CLIPModel, CLIPProcessor\n",
        "import torch\n",
        "from torchvision import datasets\n",
        "from torch.utils.data import DataLoader\n",
        "from torch.utils.data import TensorDataset\n",
        "import matplotlib.pyplot as plt\n",
        "from sklearn.metrics import accuracy_score, confusion_matrix\n",
        "import numpy as np"
      ],
      "metadata": {
        "id": "YeDKUfrTrKe_"
      },
      "id": "YeDKUfrTrKe_",
      "execution_count": null,
      "outputs": []
    },
    {
      "cell_type": "code",
      "execution_count": null,
      "id": "026463ce",
      "metadata": {
        "colab": {
          "base_uri": "https://localhost:8080/"
        },
        "id": "026463ce",
        "outputId": "e53dae06-82c1-45ca-8111-2bbd1afe19e8"
      },
      "outputs": [
        {
          "output_type": "stream",
          "name": "stdout",
          "text": [
            "Requirement already satisfied: transformers in /usr/local/lib/python3.11/dist-packages (4.53.2)\n",
            "Requirement already satisfied: torchvision in /usr/local/lib/python3.11/dist-packages (0.21.0+cu124)\n",
            "Requirement already satisfied: torch in /usr/local/lib/python3.11/dist-packages (2.6.0+cu124)\n",
            "Requirement already satisfied: accelerate in /usr/local/lib/python3.11/dist-packages (1.8.1)\n",
            "Requirement already satisfied: filelock in /usr/local/lib/python3.11/dist-packages (from transformers) (3.18.0)\n",
            "Requirement already satisfied: huggingface-hub<1.0,>=0.30.0 in /usr/local/lib/python3.11/dist-packages (from transformers) (0.33.4)\n",
            "Requirement already satisfied: numpy>=1.17 in /usr/local/lib/python3.11/dist-packages (from transformers) (2.0.2)\n",
            "Requirement already satisfied: packaging>=20.0 in /usr/local/lib/python3.11/dist-packages (from transformers) (25.0)\n",
            "Requirement already satisfied: pyyaml>=5.1 in /usr/local/lib/python3.11/dist-packages (from transformers) (6.0.2)\n",
            "Requirement already satisfied: regex!=2019.12.17 in /usr/local/lib/python3.11/dist-packages (from transformers) (2024.11.6)\n",
            "Requirement already satisfied: requests in /usr/local/lib/python3.11/dist-packages (from transformers) (2.32.3)\n",
            "Requirement already satisfied: tokenizers<0.22,>=0.21 in /usr/local/lib/python3.11/dist-packages (from transformers) (0.21.2)\n",
            "Requirement already satisfied: safetensors>=0.4.3 in /usr/local/lib/python3.11/dist-packages (from transformers) (0.5.3)\n",
            "Requirement already satisfied: tqdm>=4.27 in /usr/local/lib/python3.11/dist-packages (from transformers) (4.67.1)\n",
            "Requirement already satisfied: pillow!=8.3.*,>=5.3.0 in /usr/local/lib/python3.11/dist-packages (from torchvision) (11.2.1)\n",
            "Requirement already satisfied: typing-extensions>=4.10.0 in /usr/local/lib/python3.11/dist-packages (from torch) (4.14.1)\n",
            "Requirement already satisfied: networkx in /usr/local/lib/python3.11/dist-packages (from torch) (3.5)\n",
            "Requirement already satisfied: jinja2 in /usr/local/lib/python3.11/dist-packages (from torch) (3.1.6)\n",
            "Requirement already satisfied: fsspec in /usr/local/lib/python3.11/dist-packages (from torch) (2025.3.2)\n",
            "Collecting nvidia-cuda-nvrtc-cu12==12.4.127 (from torch)\n",
            "  Downloading nvidia_cuda_nvrtc_cu12-12.4.127-py3-none-manylinux2014_x86_64.whl.metadata (1.5 kB)\n",
            "Collecting nvidia-cuda-runtime-cu12==12.4.127 (from torch)\n",
            "  Downloading nvidia_cuda_runtime_cu12-12.4.127-py3-none-manylinux2014_x86_64.whl.metadata (1.5 kB)\n",
            "Collecting nvidia-cuda-cupti-cu12==12.4.127 (from torch)\n",
            "  Downloading nvidia_cuda_cupti_cu12-12.4.127-py3-none-manylinux2014_x86_64.whl.metadata (1.6 kB)\n",
            "Collecting nvidia-cudnn-cu12==9.1.0.70 (from torch)\n",
            "  Downloading nvidia_cudnn_cu12-9.1.0.70-py3-none-manylinux2014_x86_64.whl.metadata (1.6 kB)\n",
            "Collecting nvidia-cublas-cu12==12.4.5.8 (from torch)\n",
            "  Downloading nvidia_cublas_cu12-12.4.5.8-py3-none-manylinux2014_x86_64.whl.metadata (1.5 kB)\n",
            "Collecting nvidia-cufft-cu12==11.2.1.3 (from torch)\n",
            "  Downloading nvidia_cufft_cu12-11.2.1.3-py3-none-manylinux2014_x86_64.whl.metadata (1.5 kB)\n",
            "Collecting nvidia-curand-cu12==10.3.5.147 (from torch)\n",
            "  Downloading nvidia_curand_cu12-10.3.5.147-py3-none-manylinux2014_x86_64.whl.metadata (1.5 kB)\n",
            "Collecting nvidia-cusolver-cu12==11.6.1.9 (from torch)\n",
            "  Downloading nvidia_cusolver_cu12-11.6.1.9-py3-none-manylinux2014_x86_64.whl.metadata (1.6 kB)\n",
            "Collecting nvidia-cusparse-cu12==12.3.1.170 (from torch)\n",
            "  Downloading nvidia_cusparse_cu12-12.3.1.170-py3-none-manylinux2014_x86_64.whl.metadata (1.6 kB)\n",
            "Requirement already satisfied: nvidia-cusparselt-cu12==0.6.2 in /usr/local/lib/python3.11/dist-packages (from torch) (0.6.2)\n",
            "Requirement already satisfied: nvidia-nccl-cu12==2.21.5 in /usr/local/lib/python3.11/dist-packages (from torch) (2.21.5)\n",
            "Requirement already satisfied: nvidia-nvtx-cu12==12.4.127 in /usr/local/lib/python3.11/dist-packages (from torch) (12.4.127)\n",
            "Collecting nvidia-nvjitlink-cu12==12.4.127 (from torch)\n",
            "  Downloading nvidia_nvjitlink_cu12-12.4.127-py3-none-manylinux2014_x86_64.whl.metadata (1.5 kB)\n",
            "Requirement already satisfied: triton==3.2.0 in /usr/local/lib/python3.11/dist-packages (from torch) (3.2.0)\n",
            "Requirement already satisfied: sympy==1.13.1 in /usr/local/lib/python3.11/dist-packages (from torch) (1.13.1)\n",
            "Requirement already satisfied: mpmath<1.4,>=1.1.0 in /usr/local/lib/python3.11/dist-packages (from sympy==1.13.1->torch) (1.3.0)\n",
            "Requirement already satisfied: psutil in /usr/local/lib/python3.11/dist-packages (from accelerate) (5.9.5)\n",
            "Requirement already satisfied: hf-xet<2.0.0,>=1.1.2 in /usr/local/lib/python3.11/dist-packages (from huggingface-hub<1.0,>=0.30.0->transformers) (1.1.5)\n",
            "Requirement already satisfied: MarkupSafe>=2.0 in /usr/local/lib/python3.11/dist-packages (from jinja2->torch) (3.0.2)\n",
            "Requirement already satisfied: charset-normalizer<4,>=2 in /usr/local/lib/python3.11/dist-packages (from requests->transformers) (3.4.2)\n",
            "Requirement already satisfied: idna<4,>=2.5 in /usr/local/lib/python3.11/dist-packages (from requests->transformers) (3.10)\n",
            "Requirement already satisfied: urllib3<3,>=1.21.1 in /usr/local/lib/python3.11/dist-packages (from requests->transformers) (2.4.0)\n",
            "Requirement already satisfied: certifi>=2017.4.17 in /usr/local/lib/python3.11/dist-packages (from requests->transformers) (2025.7.14)\n",
            "Downloading nvidia_cublas_cu12-12.4.5.8-py3-none-manylinux2014_x86_64.whl (363.4 MB)\n",
            "\u001b[2K   \u001b[90m━━━━━━━━━━━━━━━━━━━━━━━━━━━━━━━━━━━━━━━━\u001b[0m \u001b[32m363.4/363.4 MB\u001b[0m \u001b[31m3.4 MB/s\u001b[0m eta \u001b[36m0:00:00\u001b[0m\n",
            "\u001b[?25hDownloading nvidia_cuda_cupti_cu12-12.4.127-py3-none-manylinux2014_x86_64.whl (13.8 MB)\n",
            "\u001b[2K   \u001b[90m━━━━━━━━━━━━━━━━━━━━━━━━━━━━━━━━━━━━━━━━\u001b[0m \u001b[32m13.8/13.8 MB\u001b[0m \u001b[31m122.1 MB/s\u001b[0m eta \u001b[36m0:00:00\u001b[0m\n",
            "\u001b[?25hDownloading nvidia_cuda_nvrtc_cu12-12.4.127-py3-none-manylinux2014_x86_64.whl (24.6 MB)\n",
            "\u001b[2K   \u001b[90m━━━━━━━━━━━━━━━━━━━━━━━━━━━━━━━━━━━━━━━━\u001b[0m \u001b[32m24.6/24.6 MB\u001b[0m \u001b[31m89.1 MB/s\u001b[0m eta \u001b[36m0:00:00\u001b[0m\n",
            "\u001b[?25hDownloading nvidia_cuda_runtime_cu12-12.4.127-py3-none-manylinux2014_x86_64.whl (883 kB)\n",
            "\u001b[2K   \u001b[90m━━━━━━━━━━━━━━━━━━━━━━━━━━━━━━━━━━━━━━━━\u001b[0m \u001b[32m883.7/883.7 kB\u001b[0m \u001b[31m61.8 MB/s\u001b[0m eta \u001b[36m0:00:00\u001b[0m\n",
            "\u001b[?25hDownloading nvidia_cudnn_cu12-9.1.0.70-py3-none-manylinux2014_x86_64.whl (664.8 MB)\n",
            "\u001b[2K   \u001b[90m━━━━━━━━━━━━━━━━━━━━━━━━━━━━━━━━━━━━━━━━\u001b[0m \u001b[32m664.8/664.8 MB\u001b[0m \u001b[31m2.1 MB/s\u001b[0m eta \u001b[36m0:00:00\u001b[0m\n",
            "\u001b[?25hDownloading nvidia_cufft_cu12-11.2.1.3-py3-none-manylinux2014_x86_64.whl (211.5 MB)\n",
            "\u001b[2K   \u001b[90m━━━━━━━━━━━━━━━━━━━━━━━━━━━━━━━━━━━━━━━━\u001b[0m \u001b[32m211.5/211.5 MB\u001b[0m \u001b[31m4.9 MB/s\u001b[0m eta \u001b[36m0:00:00\u001b[0m\n",
            "\u001b[?25hDownloading nvidia_curand_cu12-10.3.5.147-py3-none-manylinux2014_x86_64.whl (56.3 MB)\n",
            "\u001b[2K   \u001b[90m━━━━━━━━━━━━━━━━━━━━━━━━━━━━━━━━━━━━━━━━\u001b[0m \u001b[32m56.3/56.3 MB\u001b[0m \u001b[31m43.8 MB/s\u001b[0m eta \u001b[36m0:00:00\u001b[0m\n",
            "\u001b[?25hDownloading nvidia_cusolver_cu12-11.6.1.9-py3-none-manylinux2014_x86_64.whl (127.9 MB)\n",
            "\u001b[2K   \u001b[90m━━━━━━━━━━━━━━━━━━━━━━━━━━━━━━━━━━━━━━━━\u001b[0m \u001b[32m127.9/127.9 MB\u001b[0m \u001b[31m20.4 MB/s\u001b[0m eta \u001b[36m0:00:00\u001b[0m\n",
            "\u001b[?25hDownloading nvidia_cusparse_cu12-12.3.1.170-py3-none-manylinux2014_x86_64.whl (207.5 MB)\n",
            "\u001b[2K   \u001b[90m━━━━━━━━━━━━━━━━━━━━━━━━━━━━━━━━━━━━━━━━\u001b[0m \u001b[32m207.5/207.5 MB\u001b[0m \u001b[31m4.3 MB/s\u001b[0m eta \u001b[36m0:00:00\u001b[0m\n",
            "\u001b[?25hDownloading nvidia_nvjitlink_cu12-12.4.127-py3-none-manylinux2014_x86_64.whl (21.1 MB)\n",
            "\u001b[2K   \u001b[90m━━━━━━━━━━━━━━━━━━━━━━━━━━━━━━━━━━━━━━━━\u001b[0m \u001b[32m21.1/21.1 MB\u001b[0m \u001b[31m104.2 MB/s\u001b[0m eta \u001b[36m0:00:00\u001b[0m\n",
            "\u001b[?25hInstalling collected packages: nvidia-nvjitlink-cu12, nvidia-curand-cu12, nvidia-cufft-cu12, nvidia-cuda-runtime-cu12, nvidia-cuda-nvrtc-cu12, nvidia-cuda-cupti-cu12, nvidia-cublas-cu12, nvidia-cusparse-cu12, nvidia-cudnn-cu12, nvidia-cusolver-cu12\n",
            "  Attempting uninstall: nvidia-nvjitlink-cu12\n",
            "    Found existing installation: nvidia-nvjitlink-cu12 12.5.82\n",
            "    Uninstalling nvidia-nvjitlink-cu12-12.5.82:\n",
            "      Successfully uninstalled nvidia-nvjitlink-cu12-12.5.82\n",
            "  Attempting uninstall: nvidia-curand-cu12\n",
            "    Found existing installation: nvidia-curand-cu12 10.3.6.82\n",
            "    Uninstalling nvidia-curand-cu12-10.3.6.82:\n",
            "      Successfully uninstalled nvidia-curand-cu12-10.3.6.82\n",
            "  Attempting uninstall: nvidia-cufft-cu12\n",
            "    Found existing installation: nvidia-cufft-cu12 11.2.3.61\n",
            "    Uninstalling nvidia-cufft-cu12-11.2.3.61:\n",
            "      Successfully uninstalled nvidia-cufft-cu12-11.2.3.61\n",
            "  Attempting uninstall: nvidia-cuda-runtime-cu12\n",
            "    Found existing installation: nvidia-cuda-runtime-cu12 12.5.82\n",
            "    Uninstalling nvidia-cuda-runtime-cu12-12.5.82:\n",
            "      Successfully uninstalled nvidia-cuda-runtime-cu12-12.5.82\n",
            "  Attempting uninstall: nvidia-cuda-nvrtc-cu12\n",
            "    Found existing installation: nvidia-cuda-nvrtc-cu12 12.5.82\n",
            "    Uninstalling nvidia-cuda-nvrtc-cu12-12.5.82:\n",
            "      Successfully uninstalled nvidia-cuda-nvrtc-cu12-12.5.82\n",
            "  Attempting uninstall: nvidia-cuda-cupti-cu12\n",
            "    Found existing installation: nvidia-cuda-cupti-cu12 12.5.82\n",
            "    Uninstalling nvidia-cuda-cupti-cu12-12.5.82:\n",
            "      Successfully uninstalled nvidia-cuda-cupti-cu12-12.5.82\n",
            "  Attempting uninstall: nvidia-cublas-cu12\n",
            "    Found existing installation: nvidia-cublas-cu12 12.5.3.2\n",
            "    Uninstalling nvidia-cublas-cu12-12.5.3.2:\n",
            "      Successfully uninstalled nvidia-cublas-cu12-12.5.3.2\n",
            "  Attempting uninstall: nvidia-cusparse-cu12\n",
            "    Found existing installation: nvidia-cusparse-cu12 12.5.1.3\n",
            "    Uninstalling nvidia-cusparse-cu12-12.5.1.3:\n",
            "      Successfully uninstalled nvidia-cusparse-cu12-12.5.1.3\n",
            "  Attempting uninstall: nvidia-cudnn-cu12\n",
            "    Found existing installation: nvidia-cudnn-cu12 9.3.0.75\n",
            "    Uninstalling nvidia-cudnn-cu12-9.3.0.75:\n",
            "      Successfully uninstalled nvidia-cudnn-cu12-9.3.0.75\n",
            "  Attempting uninstall: nvidia-cusolver-cu12\n",
            "    Found existing installation: nvidia-cusolver-cu12 11.6.3.83\n",
            "    Uninstalling nvidia-cusolver-cu12-11.6.3.83:\n",
            "      Successfully uninstalled nvidia-cusolver-cu12-11.6.3.83\n",
            "Successfully installed nvidia-cublas-cu12-12.4.5.8 nvidia-cuda-cupti-cu12-12.4.127 nvidia-cuda-nvrtc-cu12-12.4.127 nvidia-cuda-runtime-cu12-12.4.127 nvidia-cudnn-cu12-9.1.0.70 nvidia-cufft-cu12-11.2.1.3 nvidia-curand-cu12-10.3.5.147 nvidia-cusolver-cu12-11.6.1.9 nvidia-cusparse-cu12-12.3.1.170 nvidia-nvjitlink-cu12-12.4.127\n"
          ]
        }
      ],
      "source": [
        "# Uncomment and run if required\n",
        "!pip install transformers torchvision torch accelerate"
      ]
    },
    {
      "cell_type": "code",
      "execution_count": null,
      "id": "b4701b15",
      "metadata": {
        "colab": {
          "base_uri": "https://localhost:8080/",
          "height": 426,
          "referenced_widgets": [
            "ba5cf29d4b90409d9002b12b954353b2",
            "f9fd87ef18c74565a87b24fca50863e8",
            "bcfc7a57d7bf40f0ab3547abd40a200a",
            "aff5f3243f0b400ab4ca73e3e9dac30b",
            "4ba7cd23d3b8428aa2a124e34e2efaca",
            "b90c10ceeb3f4d13aadd3bbd69aa5440",
            "74582ad69c564f6c895ba058d9cb7b69",
            "a61707fae8d54f4bb3480853ece78a90",
            "ea8b06b621b7480e8243889906793cdb",
            "988fd7f4c2e1453d930736c8b7ce745b",
            "abcd9fe4a3fa4194a0dcbd373852c9b7",
            "953a02236ddb406d870d1cd4c34f25ff",
            "053fe6d84365454b8ad0cc9f5e79a956",
            "dad35aaba99b493cb5f43e781817dba5",
            "dcd411350dd146ec933b18125542cba8",
            "090940870d71485a91e05d3dd7ab1f0d",
            "6a8f4b76c0184a998b3a36441ff42089",
            "0c54659e30134349938ba38783a7e4ec",
            "63eae22b97cd4f6f838ea459de85bd3a",
            "a978025f3ba5416e8cf9723bfcbca621",
            "4d59dfbf8c7e4723b62963fce73306b9",
            "88037cb00cdb4e448445960d07ecd04f",
            "40f16553279646a98b358d752e70ede9",
            "8ccfbe50dd0d483a8791ea62a277a9f5",
            "3c72d6f024b64b07a3d5255e5e7aa3e0",
            "aa1d9ecce1c64921b906e393c7bcb33b",
            "731d2f0a62d2428a9ff03dcd26023a8a",
            "be003d1724244b9ab77bfe65bb8c4ac4",
            "7ec87e28b806477ba540d9f242562baf",
            "c0a61d5e09ab49e2a089e9d762d0c046",
            "7f76046cb439418a91cf27dd58d6d7d4",
            "fd1c6b01575b4dd7a7c6c0c45958e1ab",
            "ce0989b3cfb744e98efb3fc17f19aae0",
            "68a86a19465d4fbba45007a8accf1dfe",
            "3036d38bb143466e8a47e20b63569fd0",
            "c93464a41e8c4c90aecd591b981d5b24",
            "dc778dab1bfe49a6a27780e0197c8afe",
            "9a2bce742be944e79b1e94b0b21003ca",
            "99ef636621fe40e382cdf66801e7acf5",
            "ef7dcd23362443b5a2c92fba37e51bf6",
            "2d2b4d892e6545918ce08ff6fddc0f0f",
            "156aa8b338c3476aa4440edcdc286826",
            "cce6644a53a64a2aa69533627779ba38",
            "d1c556199b1f4ac5a9c3bb7cf8ea76a5",
            "cedcaae7f0f447ccacb6381d78cab58f",
            "a7ab1ce445914e039e2f7ffc4fd3874b",
            "fe07e4a066c24c9e9670bf161ef460a3",
            "a3956d6fd10f4809b95f01888ee4583e",
            "71ee4f42213740c481f9a582d05a7e5a",
            "d61b341734b74386a9a19fe128208619",
            "8bf9c78e5c33423798b26b35694701e3",
            "504e4b44878a4ade98d22335fb826290",
            "800553e8d26a4a238cccc328e6bd7458",
            "937fc4ff7e05406e8795586b2078c3bc",
            "9a0500d17d15464fad5cd793766c5808",
            "007c7f65f3c44e79a3d7d58ad7015e40",
            "783b3bf2990149ba98beffdf26c951dd",
            "230c1078f78549bfa19d89d754fcaa6b",
            "62654e092e5a451c896baa3e325312c4",
            "ad13eb4b18e04d969ff1d0bd54a62918",
            "e947fa2f67ec4e7b9f98bd29250b325f",
            "b3e58f06f9a344bd8bde4783605c47cf",
            "e85881b42ad3460796fde4268a8db4f4",
            "0d481767e2eb4264b44a3164c856ccad",
            "4d85f92332f14ff7b6d24c65be098433",
            "e983341e58134b67baca0d3a105d7c10",
            "87902bc4f6024b6381618a86782b5f52",
            "1dcfaf7a4ef74c7982fbd867eeff1655",
            "d8592ee673674ef0bfb43bd7768c7ccd",
            "036251d80771406490e66e82a44c3b1c",
            "c67a0e33ae594d6f803125492d39aa96",
            "3aa53e024b09428fa5efc15c0c8ebe2b",
            "587a2f50d88e4fd9ab2ab8217b0919fd",
            "96619d90a33c465e999dc7e0b6cd4394",
            "8d30e3e41c6b4a42acc0c4ab455c08e1",
            "fc6b8075a5004ac1b9d4fc5ce4a67e2a",
            "9721ff1dfeb7477894e5ebf2a011eabe",
            "626b837671dd4434b1839e9c0c62414e",
            "e7225fcd8a8f48d1bc30d3fec44ac73d",
            "2608aee69b9c44798afee4980f88ed11",
            "a81bbdbed4994660ad480cf981c5c154",
            "e09796f998f84b0ea577944d70b9029e",
            "ffa82d5169754ece948ab1d6803a7d58",
            "458dd8ae93c14301b7db35073681ca03",
            "061b9df111544341b7b06a8ed34098a4",
            "05c460efdee34779b9773e20d08d66ce",
            "5f0163be05b04ccabaf74bf8db6207fa",
            "64ef18d0b91f4579a32a1da56de4448a",
            "7497aba7e72d4b46890ac17d45e6f957",
            "f131fc675f174e1a96bebfbea9c67f21",
            "56b39c8caac349b0957e596ebf115a5c",
            "1b525e57a29847d0bd57920efb14962a",
            "7a94bf4434d746b99a9e64ebd6c2a815",
            "41a04241ff6a485bbfe1a938f93aa535",
            "4ab549df0fb346d180fdc1f1600cf2e9",
            "d1be926ed7f44c7a921e52b6b0653942",
            "c8b7963d24ec4727b9144f83d3ef7ec4",
            "5edb12295922419c88f71b14f4e24f38",
            "115fa47a3ec147fe9aa9655a43530399"
          ]
        },
        "id": "b4701b15",
        "outputId": "51fcf20b-8ff8-4795-8122-86e48eb05a1d"
      },
      "outputs": [
        {
          "output_type": "stream",
          "name": "stderr",
          "text": [
            "/usr/local/lib/python3.11/dist-packages/huggingface_hub/utils/_auth.py:94: UserWarning: \n",
            "The secret `HF_TOKEN` does not exist in your Colab secrets.\n",
            "To authenticate with the Hugging Face Hub, create a token in your settings tab (https://huggingface.co/settings/tokens), set it as secret in your Google Colab and restart your session.\n",
            "You will be able to reuse this secret in all of your notebooks.\n",
            "Please note that authentication is recommended but still optional to access public models or datasets.\n",
            "  warnings.warn(\n"
          ]
        },
        {
          "output_type": "display_data",
          "data": {
            "text/plain": [
              "config.json: 0.00B [00:00, ?B/s]"
            ],
            "application/vnd.jupyter.widget-view+json": {
              "version_major": 2,
              "version_minor": 0,
              "model_id": "ba5cf29d4b90409d9002b12b954353b2"
            }
          },
          "metadata": {}
        },
        {
          "output_type": "display_data",
          "data": {
            "text/plain": [
              "pytorch_model.bin:   0%|          | 0.00/605M [00:00<?, ?B/s]"
            ],
            "application/vnd.jupyter.widget-view+json": {
              "version_major": 2,
              "version_minor": 0,
              "model_id": "953a02236ddb406d870d1cd4c34f25ff"
            }
          },
          "metadata": {}
        },
        {
          "output_type": "display_data",
          "data": {
            "text/plain": [
              "preprocessor_config.json:   0%|          | 0.00/316 [00:00<?, ?B/s]"
            ],
            "application/vnd.jupyter.widget-view+json": {
              "version_major": 2,
              "version_minor": 0,
              "model_id": "40f16553279646a98b358d752e70ede9"
            }
          },
          "metadata": {}
        },
        {
          "output_type": "display_data",
          "data": {
            "text/plain": [
              "tokenizer_config.json:   0%|          | 0.00/592 [00:00<?, ?B/s]"
            ],
            "application/vnd.jupyter.widget-view+json": {
              "version_major": 2,
              "version_minor": 0,
              "model_id": "68a86a19465d4fbba45007a8accf1dfe"
            }
          },
          "metadata": {}
        },
        {
          "output_type": "display_data",
          "data": {
            "text/plain": [
              "vocab.json: 0.00B [00:00, ?B/s]"
            ],
            "application/vnd.jupyter.widget-view+json": {
              "version_major": 2,
              "version_minor": 0,
              "model_id": "cedcaae7f0f447ccacb6381d78cab58f"
            }
          },
          "metadata": {}
        },
        {
          "output_type": "display_data",
          "data": {
            "text/plain": [
              "merges.txt: 0.00B [00:00, ?B/s]"
            ],
            "application/vnd.jupyter.widget-view+json": {
              "version_major": 2,
              "version_minor": 0,
              "model_id": "007c7f65f3c44e79a3d7d58ad7015e40"
            }
          },
          "metadata": {}
        },
        {
          "output_type": "display_data",
          "data": {
            "text/plain": [
              "model.safetensors:   0%|          | 0.00/605M [00:00<?, ?B/s]"
            ],
            "application/vnd.jupyter.widget-view+json": {
              "version_major": 2,
              "version_minor": 0,
              "model_id": "87902bc4f6024b6381618a86782b5f52"
            }
          },
          "metadata": {}
        },
        {
          "output_type": "display_data",
          "data": {
            "text/plain": [
              "special_tokens_map.json:   0%|          | 0.00/389 [00:00<?, ?B/s]"
            ],
            "application/vnd.jupyter.widget-view+json": {
              "version_major": 2,
              "version_minor": 0,
              "model_id": "626b837671dd4434b1839e9c0c62414e"
            }
          },
          "metadata": {}
        },
        {
          "output_type": "display_data",
          "data": {
            "text/plain": [
              "tokenizer.json: 0.00B [00:00, ?B/s]"
            ],
            "application/vnd.jupyter.widget-view+json": {
              "version_major": 2,
              "version_minor": 0,
              "model_id": "7497aba7e72d4b46890ac17d45e6f957"
            }
          },
          "metadata": {}
        },
        {
          "output_type": "stream",
          "name": "stdout",
          "text": [
            "Using device: cuda\n"
          ]
        }
      ],
      "source": [
        "# from transformers import CLIPModel, CLIPProcessor\n",
        "# import torch\n",
        "\n",
        "clip_model_name = \"openai/clip-vit-base-patch32\"\n",
        "clip_model     = CLIPModel.from_pretrained(clip_model_name)\n",
        "clip_processor = CLIPProcessor.from_pretrained(clip_model_name, use_fast=False)\n",
        "\n",
        "# Set model to evaluation mode, as we are not training it\n",
        "clip_model.eval()\n",
        "\n",
        "# Check for accelerators\n",
        "device = \"cpu\" # Default to CPU\n",
        "if torch.cuda.is_available():\n",
        "    device = \"cuda\" # Use GPU if available\n",
        "elif torch.backends.mps.is_available():\n",
        "    device = \"mps\"\n",
        "\n",
        "clip_model.to(device)\n",
        "\n",
        "print(f\"Using device: {device}\")"
      ]
    },
    {
      "cell_type": "markdown",
      "id": "14789e25",
      "metadata": {
        "id": "14789e25"
      },
      "source": [
        "Now we are ready to load the testing set from Fashion-MNIST. We will use the `torchvision.datasets.FashionMNIST` class to load the dataset. We do not need to apply any transformations to the images, as the `CLIPProcessor` ensures any input images are in the format that the model is trained on.\n",
        "\n",
        "You should:\n",
        "\n",
        "- [ ] Use the `torchvision.datasets.FashionMNIST` class to load the *test* split of the dataset. Documentation is available [here](https://pytorch.org/vision/stable/generated/torchvision.datasets.FashionMNIST.html).\n",
        "- [ ] Create a PyTorch `DataLoader` to iterate over the dataset in batches. Use a batch size of 16 and set `shuffle=True` to randomise the order of the images. You will also need to supply the provided `collate_clip` function to the `DataLoader collate_fn` argument to ensure the images are processed correctly. Documentation for `DataLoader` is available [here](https://pytorch.org/docs/stable/data.html#torch.utils.data.DataLoader)."
      ]
    },
    {
      "cell_type": "code",
      "execution_count": null,
      "id": "f2da3fba",
      "metadata": {
        "id": "f2da3fba",
        "colab": {
          "base_uri": "https://localhost:8080/"
        },
        "outputId": "0a788208-cec1-47f5-c513-2ece61af76e3"
      },
      "outputs": [
        {
          "output_type": "stream",
          "name": "stderr",
          "text": [
            "100%|██████████| 26.4M/26.4M [00:03<00:00, 7.83MB/s]\n",
            "100%|██████████| 29.5k/29.5k [00:00<00:00, 170kB/s]\n",
            "100%|██████████| 4.42M/4.42M [00:01<00:00, 3.03MB/s]\n",
            "100%|██████████| 5.15k/5.15k [00:00<00:00, 12.3MB/s]\n"
          ]
        }
      ],
      "source": [
        "# from torchvision import datasets\n",
        "# from torch.utils.data import DataLoader\n",
        "\n",
        "\n",
        "CLASS_NAMES = [\n",
        "    \"T-shirt/top\",\n",
        "    \"Trouser\",\n",
        "    \"Pullover\",\n",
        "    \"Dress\",\n",
        "    \"Coat\",\n",
        "    \"Sandal\",\n",
        "    \"Shirt\",\n",
        "    \"Sneaker\",\n",
        "    \"Bag\",\n",
        "    \"Ankle boot\"\n",
        "]\n",
        "\n",
        "def collate_clip(batch):\n",
        "    imgs, labels = zip(*batch) # Unzip the batch into images and labels\n",
        "    proc = clip_processor(images=list(imgs),\n",
        "                        return_tensors=\"pt\",\n",
        "                        padding=True) # Process images with CLIPProcessor\n",
        "    # Send pixel_values to GPU/CPU now; labels stay on CPU for metrics\n",
        "    return proc[\"pixel_values\"].to(device), torch.tensor(labels)\n",
        "\n",
        "test_dataset = datasets.FashionMNIST(root='FashionMNIST/raw/t10k-images-idx3-ubyte', download=True)"
      ]
    },
    {
      "cell_type": "code",
      "source": [
        "print(type(test_dataset))"
      ],
      "metadata": {
        "colab": {
          "base_uri": "https://localhost:8080/"
        },
        "id": "RHHxsTz0C3PL",
        "outputId": "5fe78b1f-0e6b-4d6e-b2f6-7d5764f8f377"
      },
      "id": "RHHxsTz0C3PL",
      "execution_count": null,
      "outputs": [
        {
          "output_type": "stream",
          "name": "stdout",
          "text": [
            "<class 'torchvision.datasets.mnist.FashionMNIST'>\n"
          ]
        }
      ]
    },
    {
      "cell_type": "code",
      "source": [
        "# from torch.utils.data import TensorDataset\n",
        "\n",
        "# dataset = TensorDataset(test_dataset)\n",
        "test_loader = DataLoader(\n",
        "    test_dataset,\n",
        "    batch_size=16,\n",
        "    collate_fn=collate_clip,\n",
        "    # pin_memory=True,\n",
        "    shuffle=True\n",
        "    )"
      ],
      "metadata": {
        "id": "FYO4rOx_A5G4"
      },
      "id": "FYO4rOx_A5G4",
      "execution_count": null,
      "outputs": []
    },
    {
      "cell_type": "markdown",
      "id": "bed01b1c",
      "metadata": {
        "id": "bed01b1c"
      },
      "source": [
        "If your code is correct, the following cell should show the first batch of images from the Fashion-MNIST dataset:"
      ]
    },
    {
      "cell_type": "code",
      "execution_count": null,
      "id": "21d97e23",
      "metadata": {
        "colab": {
          "base_uri": "https://localhost:8080/",
          "height": 120
        },
        "id": "21d97e23",
        "outputId": "44994437-d99b-4c66-e902-8bd9f9ed4b79"
      },
      "outputs": [
        {
          "output_type": "display_data",
          "data": {
            "text/plain": [
              "<Figure size 1500x500 with 16 Axes>"
            ],
            "image/png": "[encoded data removed]"
          },
          "metadata": {}
        }
      ],
      "source": [
        "# import matplotlib.pyplot as plt\n",
        "\n",
        "# Display the first batch of images from `test_loader`\n",
        "\n",
        "def show_batch(loader):\n",
        "    images, labels = next(iter(loader))\n",
        "    images = images.cpu()  # Move images to CPU for plotting\n",
        "    # Renormalize to [0, 1] for visualization\n",
        "    images = (images - images.min()) / (images.max() - images.min())\n",
        "    _, axes = plt.subplots(1, len(images), figsize=(15, 5))\n",
        "    for ax, img, label in zip(axes, images, labels):\n",
        "        ax.imshow(img.permute(1, 2, 0))\n",
        "        ax.set_title(CLASS_NAMES[label.item()])\n",
        "        ax.axis('off')\n",
        "    plt.show()\n",
        "\n",
        "show_batch(test_loader)"
      ]
    },
    {
      "cell_type": "markdown",
      "id": "e1183726",
      "metadata": {
        "id": "e1183726"
      },
      "source": [
        "We’re now ready to run our zero-shot classification baseline!\n",
        "\n",
        "# Brief Introduction to Zero-Shot Classification\n",
        "\n",
        "In Assignment 1, we followed the typical machine-learning pipeline: we trained a CNN on the Fashion-MNIST dataset, using labelled examples to update the model’s weights. While effective, that approach requires a curated, task-specific training set—a luxury you don’t always have in practice.\n",
        "\n",
        "Zero-shot classification flips the script.  A large vision–language model (VLM) such as **CLIP** is first pre-trained on hundreds of millions of image–text pairs scraped from the web.  Because it learns *joint* visual–textual embeddings, the model can later solve new tasks simply by “measuring” how similar an image is to a **text prompt** that describes each candidate class—without seeing a single task-labelled example.\n",
        "\n",
        "**How it works**  \n",
        "1. Feed an image through CLIP’s vision encoder → **image feature**.  \n",
        "2. Feed a textual prompt (e.g. “a photo of a sandal”) through CLIP’s text encoder → **text feature**.  \n",
        "3. Compute cosine similarity between the image feature and every class’s text feature.  \n",
        "4. Pick the class whose prompt is most similar.\n",
        "\n",
        "For our first attempt, we’ll use the bare class names as prompts, e.g.:\n",
        "\n",
        "- \"T-shirt/top\"\n",
        "- \"Trouser\"\n",
        "\n",
        "### You should:\n",
        "\n",
        "- [ ] Build embeddings: use the `get_text_embeddings` helper function to create text embeddings for the class names.\n",
        "- [ ] Run inference: use the `get_image_embeddings` helper function to create image embeddings.\n",
        "- [ ] Compute cosine similarity: complete and use the `get_cosine_similarity` helper function to compute the cosine similarity between the image and text embeddings.\n",
        "- [ ] Make predictions: use the `get_predictions` helper function to get the predicted class for each image in the batch.\n",
        "\n",
        "Note that for normalized vectors like the ones we are using, cosine similarity is equivalent to the dot product. This means we can use the handy formula `cosine_similarity = vector_a @ vector_b.T` to compute the similarity between the image and text embeddings."
      ]
    },
    {
      "cell_type": "code",
      "execution_count": null,
      "id": "4c3acc29",
      "metadata": {
        "id": "4c3acc29"
      },
      "outputs": [],
      "source": [
        "def get_text_embeddings(class_names: list[str]) -> torch.Tensor:\n",
        "    \"\"\"    Get text embeddings for the given class names using CLIP.\n",
        "    Args:\n",
        "        class_names (list[str]): List of class names to encode.\n",
        "    Returns:\n",
        "        torch.Tensor: Normalized text embeddings for the class names.\n",
        "    \"\"\"\n",
        "    tokenized = clip_processor(text=class_names,\n",
        "                               padding=True,\n",
        "                               return_tensors=\"pt\").to(device)\n",
        "\n",
        "    with torch.no_grad():\n",
        "        text_embeddings = clip_model.get_text_features(**tokenized)\n",
        "\n",
        "    text_feats = text_embeddings / text_embeddings.norm(dim=-1, keepdim=True)\n",
        "\n",
        "    return text_feats\n",
        "\n",
        "def get_image_embeddings(images: torch.Tensor) -> torch.Tensor:\n",
        "    \"\"\"    Get image embeddings for the given images using CLIP.\n",
        "    Args:\n",
        "        images (torch.Tensor): Batch of images to encode.\n",
        "    Returns:\n",
        "        torch.Tensor: Normalized image embeddings for the images.\n",
        "    \"\"\"\n",
        "    with torch.no_grad():\n",
        "        image_embeddings = clip_model.get_image_features(pixel_values=images)\n",
        "\n",
        "    image_feats = image_embeddings / image_embeddings.norm(dim=-1, keepdim=True)\n",
        "\n",
        "    return image_feats"
      ]
    },
    {
      "cell_type": "code",
      "execution_count": null,
      "id": "16653654",
      "metadata": {
        "id": "16653654"
      },
      "outputs": [],
      "source": [
        "# import numpy as np\n",
        "\n",
        "def get_cosine_similarity(image_feats: torch.Tensor, text_feats: torch.Tensor) -> np.ndarray:\n",
        "    \"\"\"\n",
        "    Compute cosine similarity between image features and text features.\n",
        "    Args:\n",
        "        image_feats (torch.Tensor): Image features of shape (N, D).\n",
        "        text_feats (torch.Tensor): Text features of shape (M, D).\n",
        "    Returns:\n",
        "        numpy.ndarray: Cosine similarity matrix of shape (N, M), where N is the number of images and M is the number of text prompts.\n",
        "    \"\"\"\n",
        "    image_feats = image_feats.cpu()  # Ensure image features are on CPU\n",
        "    text_feats = text_feats.cpu()    # Ensure text features are on CPU\n",
        "\n",
        "    # Compute cosine similarity, which is the dot product of normalized vectors\n",
        "    # cosine_sim = CosineSimilarity()\n",
        "    # return cosine_sim(image_feats, text_feats)\n",
        "    return image_feats.numpy() @ text_feats.numpy().T\n",
        "\n",
        "def get_predictions(similarity: np.ndarray) -> np.ndarray:\n",
        "    \"\"\"\n",
        "    Get predictions based on cosine similarity scores.\n",
        "    Args:\n",
        "        similarity (numpy.ndarray): Cosine similarity matrix of shape (N, M), where N is the number of images and M is the number of text prompts.\n",
        "    Returns:\n",
        "        numpy.ndarray: Predicted class indices for each image, shape (N,).\n",
        "    \"\"\"\n",
        "    # Get the index of the maximum similarity for each image\n",
        "\n",
        "    return np.argmax(simis, axis=1)"
      ]
    },
    {
      "cell_type": "markdown",
      "id": "55d9e1de",
      "metadata": {
        "id": "55d9e1de"
      },
      "source": [
        "With these functions complete, you are ready to run the zero-shot classification baseline. Complete the code to follow these steps:\n",
        "\n",
        "- [ ] Build text embeddings for the class names using the `get_text_embeddings` function (this only needs to be done once).\n",
        "- [ ] For each batch of images:\n",
        "    - [ ] Get image embeddings using the `get_image_embeddings` function.\n",
        "    - [ ] Compute cosine similarity between the image and text embeddings using the `get_cosine_similarity` function.\n",
        "    - [ ] Save the predictions so that we can build a confusion matrix later.\n",
        "- [ ] Report the accuracy of the predictions and the confusion matrix using the `accuracy_score` and `confusion_matrix` functions from `sklearn.metrics`."
      ]
    },
    {
      "cell_type": "code",
      "execution_count": null,
      "id": "b4364acd",
      "metadata": {
        "id": "b4364acd"
      },
      "outputs": [],
      "source": [
        "# from sklearn.metrics import accuracy_score, confusion_matrix\n",
        "\n",
        "y_true, y_pred = [], []\n",
        "\n",
        "\n",
        "for pixel_values, labels in test_loader:\n",
        "    # Report the accuracy of the predictions\n",
        "    text_embes = get_text_embeddings(CLASS_NAMES)\n",
        "    image_embes = get_image_embeddings(pixel_values)\n",
        "    simis = get_cosine_similarity(image_embes, text_embes)\n",
        "    preds = get_predictions(simis)\n",
        "    y_true.append(labels.cpu().numpy())\n",
        "    y_pred.append(preds)\n"
      ]
    },
    {
      "cell_type": "code",
      "source": [
        "_y_true = np.array(y_true).flatten()\n",
        "_y_pred = np.array(y_pred).flatten()\n",
        "\n",
        "print('Accuracy score: {}'.format(accuracy_score(_y_true, _y_pred)))"
      ],
      "metadata": {
        "id": "0vsMKIw25WLq",
        "colab": {
          "base_uri": "https://localhost:8080/"
        },
        "outputId": "abd135e2-12bc-46b9-f4a8-4fbf18ee108c"
      },
      "id": "0vsMKIw25WLq",
      "execution_count": null,
      "outputs": [
        {
          "output_type": "stream",
          "name": "stdout",
          "text": [
            "Accuracy score: 0.6299833333333333\n"
          ]
        }
      ]
    },
    {
      "cell_type": "markdown",
      "id": "0857f4a8",
      "metadata": {
        "id": "0857f4a8"
      },
      "source": [
        "Reflection: Consider the results. How does the performance of this zero-shot baseline compare to the CNN you trained in Assignment 1? What are the strengths and weaknesses of this approach?"
      ]
    },
    {
      "cell_type": "markdown",
      "source": [
        "### **Comment:**\n",
        "> - The CNN model using class-based labeled data performs better than the zero-shot baseline model.\n",
        ">\n",
        ">   CNN:\n",
        ">   `test_acc: 0.919`\n",
        ">\n",
        ">   Zero-shot:\n",
        ">   `acc: 0.630`\n",
        ">\n",
        "> - The above might be due to the fact that the data in the CNN is labelled, in this sense, there's less room for mistakenly classify images\n",
        ">\n",
        "> - The main weakness I identify while using the zero-show approach is the quality/detail of the text associated to the image. Shallow \"descriptions\" might lead to two images being identified as the same object\n",
        ">\n",
        "> - A strength of this method is the fact that the images don't need to be labelled, which can be resource intensive"
      ],
      "metadata": {
        "id": "07otGG4rsHQ_"
      },
      "id": "07otGG4rsHQ_"
    },
    {
      "cell_type": "code",
      "source": [
        "# # Report the confusion matrix\n",
        "def plot_confusion_matrix(y_true, y_pred, class_names):\n",
        "    cm = confusion_matrix(y_true, y_pred)\n",
        "    plt.figure(figsize=(10, 8))\n",
        "    plt.imshow(cm, interpolation='nearest', cmap=plt.cm.Blues)\n",
        "\n",
        "    # Loop over data dimensions and create text annotations.\n",
        "    for i in range(len(class_names)):\n",
        "        for j in range(len(class_names)):\n",
        "            text = plt.text(j, i, cm[i, j],\n",
        "                          ha=\"center\", va=\"center\", color=\"black\")\n",
        "\n",
        "    plt.title('Confusion Matrix')\n",
        "    plt.colorbar()\n",
        "    tick_marks = np.arange(len(class_names))\n",
        "    plt.xticks(tick_marks, class_names, rotation=45)\n",
        "    plt.yticks(tick_marks, class_names)\n",
        "    plt.ylabel('True label')\n",
        "    plt.xlabel('Predicted label')\n",
        "    plt.tight_layout()\n",
        "    plt.show()"
      ],
      "metadata": {
        "id": "DORKVbz_xWtS"
      },
      "id": "DORKVbz_xWtS",
      "execution_count": null,
      "outputs": []
    },
    {
      "cell_type": "code",
      "source": [
        "plot_confusion_matrix(_y_true, _y_pred, CLASS_NAMES)"
      ],
      "metadata": {
        "colab": {
          "base_uri": "https://localhost:8080/",
          "height": 807
        },
        "id": "XeapleGHkdGG",
        "outputId": "307412de-bfd2-493b-e156-a829f1821d6d"
      },
      "id": "XeapleGHkdGG",
      "execution_count": null,
      "outputs": [
        {
          "output_type": "display_data",
          "data": {
            "text/plain": [
              "<Figure size 1000x800 with 2 Axes>"
            ],
            "image/png": "[encoded data removed]"
          },
          "metadata": {}
        }
      ]
    },
    {
      "cell_type": "markdown",
      "id": "599e16af",
      "metadata": {
        "id": "599e16af"
      },
      "source": [
        "## Improving Zero-Shot Classification with Prompt Engineering\n",
        "\n",
        "In the previous section, we directly used the class names as text prompts for zero-shot classification. However, we can often improve performance by crafting more descriptive prompts that better capture the visual characteristics of each class. For example, instead of just \"T-shirt/top\", we could use \"a photo of a T-shirt\" or \"a photo of a top\". This additional context can help the model make more accurate predictions.\n",
        "\n",
        "In this section, we will experiment with more detailed prompts for each class to see if we can improve the zero-shot classification performance. You should:\n",
        "\n",
        "- [ ] Create a list of improved prompts for each class. For example, instead of just \"T-shirt/top\", you could use \"a photo of a T-shirt\" or \"a photo of a top\".\n",
        "- [ ] Use the `get_text_embeddings` function to create text embeddings for the improved prompts.\n",
        "- [ ] Run the zero-shot classification baseline again using the improved prompts and report the accuracy and confusion matrix.\n",
        "\n",
        "Note: Take advantage of the confusion matrix above. If two classes are often confused, consider how you might improve the prompts to help the model distinguish them better.\n",
        "\n",
        "The aim for this section is for you to improve the performance of the model. However, if you find that the performance does not improve significantly, you can still reflect on the process and consider how you might further refine the prompts with more effort."
      ]
    },
    {
      "cell_type": "markdown",
      "source": [
        "![image.png](data:image/png;base64,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)"
      ],
      "metadata": {
        "id": "rxHaPJvbpIEI"
      },
      "id": "rxHaPJvbpIEI"
    },
    {
      "cell_type": "code",
      "execution_count": null,
      "id": "5abf5cc1",
      "metadata": {
        "id": "5abf5cc1"
      },
      "outputs": [],
      "source": [
        "CLASS_NAMES_2 = [\n",
        "    \"A women's T-shirt/top with text on it\",\n",
        "    \"A photo of long Trousers\",\n",
        "    \"Pullover with long sleeves\",\n",
        "    \"Dress\",\n",
        "    \"Coat\",\n",
        "    \"Sandal with crossed straps\",\n",
        "    \"Shirt with short sleeves\",\n",
        "    \"Sneaker with laces and details on the side\",\n",
        "    \"Bag with long straps and squared-shape\",\n",
        "    \"An Ankle boot without laces\"\n",
        "]\n",
        "\n",
        "\n",
        "y_true, y_pred = [], []\n",
        "\n",
        "\n",
        "for pixel_values, labels in test_loader:\n",
        "    # Report the accuracy of the predictions\n",
        "    text_embes = get_text_embeddings(CLASS_NAMES_2)\n",
        "    image_embes = get_image_embeddings(pixel_values)\n",
        "    simis = get_cosine_similarity(image_embes, text_embes)\n",
        "    preds = get_predictions(simis)\n",
        "    y_true.append(labels.cpu().numpy())\n",
        "    y_pred.append(preds)\n",
        "\n"
      ]
    },
    {
      "cell_type": "code",
      "source": [
        "_y_true = np.array(y_true).flatten()\n",
        "_y_pred = np.array(y_pred).flatten()\n",
        "\n",
        "print('Accuracy score: {}'.format(accuracy_score(_y_true, _y_pred)))"
      ],
      "metadata": {
        "colab": {
          "base_uri": "https://localhost:8080/"
        },
        "id": "YdmzzvCy5jLY",
        "outputId": "2ddf714d-8cf7-4349-b1d2-dcfb707f2aba"
      },
      "id": "YdmzzvCy5jLY",
      "execution_count": null,
      "outputs": [
        {
          "output_type": "stream",
          "name": "stdout",
          "text": [
            "Accuracy score: 0.5775333333333333\n"
          ]
        }
      ]
    },
    {
      "cell_type": "code",
      "source": [
        "plot_confusion_matrix(_y_true, _y_pred, CLASS_NAMES)"
      ],
      "metadata": {
        "colab": {
          "base_uri": "https://localhost:8080/",
          "height": 807
        },
        "id": "0Ek7tluK3k3-",
        "outputId": "49ba089c-2f65-44b8-fde8-6a86d679c593"
      },
      "id": "0Ek7tluK3k3-",
      "execution_count": null,
      "outputs": [
        {
          "output_type": "display_data",
          "data": {
            "text/plain": [
              "<Figure size 1000x800 with 2 Axes>"
            ],
            "image/png": "[encoded data removed]"
          },
          "metadata": {}
        }
      ]
    },
    {
      "cell_type": "markdown",
      "id": "28e88284",
      "metadata": {
        "id": "28e88284"
      },
      "source": [
        "Reflection: How did your detailed prompts affect the zero-shot classification performance? Did you see a significant improvement compared to the baseline? What insights did you gain about the model's understanding of the classes? Do you think that with more effort you could further improve the performance? If so, how?"
      ]
    },
    {
      "cell_type": "markdown",
      "source": [
        "## **Comments:**\n",
        ">  - Changing the prompts had a noticeable impact on the performance of the predictions, although not in the desired direction. The accuracy of the model decreased with respect to the original prompts\n",
        ">\n",
        "> - Classes with similar features like `Shirt` and `Pullover` are misclassified and their prompts required better engineering\n",
        ">\n",
        "> - My guess is that by adding more context to similar classes might improve the performance of the model."
      ],
      "metadata": {
        "id": "HZO9-YZD4953"
      },
      "id": "HZO9-YZD4953"
    },
    {
      "cell_type": "markdown",
      "id": "e817d7b4",
      "metadata": {
        "id": "e817d7b4"
      },
      "source": [
        "## Visualizing Image Embeddings with UMAP\n",
        "\n",
        "To better understand how the model perceives the different classes, we can visualize the image embeddings using UMAP (Uniform Manifold Approximation and Projection). UMAP is a dimensionality reduction technique that helps us see how similar or dissimilar the embeddings are in a lower-dimensional space.\n",
        "\n",
        "By visualizing the embeddings, we can gain insights into how well the model can distinguish certain images, even without considering the text prompts. This can help us identify clusters of similar images and see if there are any overlaps between classes.\n",
        "\n",
        "You should:\n",
        "\n",
        "- [ ] Use the `get_image_embeddings` function to get the image embeddings for the entire test set.\n",
        "- [ ] Use UMAP to reduce the dimensionality of the image embeddings to 2D.\n",
        "- [ ] Plot the 2D embeddings, coloring each point by its true class label.\n",
        "\n",
        "You may need to install the `umap-learn` library if you haven't already. You can do this by running `pip install umap-learn`."
      ]
    },
    {
      "cell_type": "code",
      "execution_count": null,
      "id": "a7a20757",
      "metadata": {
        "id": "a7a20757",
        "colab": {
          "base_uri": "https://localhost:8080/"
        },
        "outputId": "68e0dce8-a135-4b47-f075-a2c45cbcf7f7"
      },
      "outputs": [
        {
          "output_type": "stream",
          "name": "stdout",
          "text": [
            "Requirement already satisfied: umap-learn in /usr/local/lib/python3.11/dist-packages (0.5.9.post2)\n",
            "Requirement already satisfied: numpy>=1.23 in /usr/local/lib/python3.11/dist-packages (from umap-learn) (2.0.2)\n",
            "Requirement already satisfied: scipy>=1.3.1 in /usr/local/lib/python3.11/dist-packages (from umap-learn) (1.15.3)\n",
            "Requirement already satisfied: scikit-learn>=1.6 in /usr/local/lib/python3.11/dist-packages (from umap-learn) (1.6.1)\n",
            "Requirement already satisfied: numba>=0.51.2 in /usr/local/lib/python3.11/dist-packages (from umap-learn) (0.60.0)\n",
            "Requirement already satisfied: pynndescent>=0.5 in /usr/local/lib/python3.11/dist-packages (from umap-learn) (0.5.13)\n",
            "Requirement already satisfied: tqdm in /usr/local/lib/python3.11/dist-packages (from umap-learn) (4.67.1)\n",
            "Requirement already satisfied: llvmlite<0.44,>=0.43.0dev0 in /usr/local/lib/python3.11/dist-packages (from numba>=0.51.2->umap-learn) (0.43.0)\n",
            "Requirement already satisfied: joblib>=0.11 in /usr/local/lib/python3.11/dist-packages (from pynndescent>=0.5->umap-learn) (1.5.1)\n",
            "Requirement already satisfied: threadpoolctl>=3.1.0 in /usr/local/lib/python3.11/dist-packages (from scikit-learn>=1.6->umap-learn) (3.6.0)\n"
          ]
        }
      ],
      "source": [
        "# Uncomment the following line to install UMAP if you haven't already\n",
        "!pip install umap-learn"
      ]
    },
    {
      "cell_type": "code",
      "execution_count": null,
      "id": "e5fd3b4b",
      "metadata": {
        "id": "e5fd3b4b"
      },
      "outputs": [],
      "source": [
        "from umap import UMAP\n",
        "\n",
        "# ------------------------------------------------------------\n",
        "# 1. Collect image embeddings\n",
        "# ------------------------------------------------------------\n",
        "all_img_emb = []\n",
        "all_labels  = []\n",
        "\n",
        "for pixel_values, labels in test_loader:\n",
        "    all_labels.append(labels)\n",
        "    all_img_emb.append(get_image_embeddings(pixel_values).cpu().numpy())\n",
        "\n",
        "_all_labels = np.array(all_labels).flatten()\n"
      ]
    },
    {
      "cell_type": "code",
      "source": [
        "np.vstack(all_img_emb).shape"
      ],
      "metadata": {
        "colab": {
          "base_uri": "https://localhost:8080/"
        },
        "id": "1cV6Y1I-u8rQ",
        "outputId": "58d93e8c-74ed-4b3f-a0bf-95d67e90ee43"
      },
      "id": "1cV6Y1I-u8rQ",
      "execution_count": null,
      "outputs": [
        {
          "output_type": "execute_result",
          "data": {
            "text/plain": [
              "(60000, 512)"
            ]
          },
          "metadata": {},
          "execution_count": 18
        }
      ]
    },
    {
      "cell_type": "code",
      "source": [
        "# ------------------------------------------------------------\n",
        "# 2. Fit UMAP\n",
        "# ------------------------------------------------------------\n",
        "umap_model = UMAP(n_neighbors=5)\n",
        "embeddings_umap = umap_model.fit_transform(np.vstack(all_img_emb))"
      ],
      "metadata": {
        "id": "vQvLM6b5qrmT"
      },
      "id": "vQvLM6b5qrmT",
      "execution_count": null,
      "outputs": []
    },
    {
      "cell_type": "code",
      "source": [
        "embeddings_umap[0]"
      ],
      "metadata": {
        "colab": {
          "base_uri": "https://localhost:8080/"
        },
        "id": "0gGEplsczyww",
        "outputId": "affdcac0-c639-4424-8e95-1c59af2a865c"
      },
      "id": "0gGEplsczyww",
      "execution_count": null,
      "outputs": [
        {
          "output_type": "execute_result",
          "data": {
            "text/plain": [
              "array([-1.2456169,  7.523645 ], dtype=float32)"
            ]
          },
          "metadata": {},
          "execution_count": 20
        }
      ]
    },
    {
      "cell_type": "code",
      "source": [
        "# ------------------------------------------------------------\n",
        "# 3. Plot coloured by ground-truth label\n",
        "# ------------------------------------------------------------\n",
        "colors = dict(zip(CLASS_NAMES, list(range(16))))\n",
        "\n",
        "fig, ax = plt.subplots()\n",
        "_scatterp = ax.scatter(embeddings_umap[:, 0], embeddings_umap[:, 1], s=5, c=all_labels, cmap='gnuplot')\n",
        "plt.colorbar(_scatterp, boundaries=np.arange(11)-0.5).set_ticks(np.arange(10), labels=colors.keys())\n",
        "plt.show();\n"
      ],
      "metadata": {
        "colab": {
          "base_uri": "https://localhost:8080/",
          "height": 430
        },
        "id": "fEaadWKqzpyr",
        "outputId": "62bce393-22a1-4021-f56f-d4cdb6d79c4e"
      },
      "id": "fEaadWKqzpyr",
      "execution_count": null,
      "outputs": [
        {
          "output_type": "display_data",
          "data": {
            "text/plain": [
              "<Figure size 640x480 with 2 Axes>"
            ],
            "image/png": "[encoded data removed]"
          },
          "metadata": {}
        }
      ]
    },
    {
      "cell_type": "markdown",
      "source": [
        "The UMAP embeddings allow us to see how separable or non-separable different classes are with our specific model. If two specific images are very similar, then they will be placed near each other on this graph.\n",
        "\n",
        "Reflection: Do you notice any challenges in distinguishing images based on this figure? Are there any types of clothing in the dataset which the model has no trouble distinguishing from the others?"
      ],
      "metadata": {
        "id": "zAI3xDQZvuCA"
      },
      "id": "zAI3xDQZvuCA"
    },
    {
      "cell_type": "markdown",
      "source": [
        "### **Comments:**\n",
        "> Yes, the above supports that some classes are challenging to differentiate from each other. For example, the pair `T-shirt/top`/ `Shirt`\n",
        ">\n",
        "> It seems that similar objects, for example, all tops are hard to properly clssify. Something that does not happen in the case of the class `Trouser`, which has its own well-defined blob"
      ],
      "metadata": {
        "id": "VimuSkexvwiA"
      },
      "id": "VimuSkexvwiA"
    },
    {
      "cell_type": "markdown",
      "id": "132f943e",
      "metadata": {
        "id": "132f943e"
      },
      "source": [
        "## Mini-Experiment\n",
        "\n",
        "In this section, you will conduct a mini-experiment of your choice to further explore the capabilities of zero-shot classification with transformers. This can be anything you'd like, but here are some ideas to get you started.\n",
        "\n",
        "### A. Alternative Model\n",
        "\n",
        "So far we have been utilizing OpenAI's CLIP model for zero-shot classification. However, there are many other vision–language models available in the `transformers` library that you can experiment with. For example, there are larger CLIP models such as [clip-vit-large-patch14](https://huggingface.co/openai/clip-vit-large-patch14), and open-source versions such as [laion/CLIP-ViT-B-32-laion2B-s34B-b79K](https://huggingface.co/laion/CLIP-ViT-B-32-laion2B-s34B-b79K). You can also search huggingface [here](https://huggingface.co/models?sort=trending&search=clip) to find other models that might be suitable for zero-shot classification.\n",
        "\n",
        "You can try using a different model to see if it improves the zero-shot classification performance. You should:\n",
        "- [ ] Load a different model and processor from the `transformers` library.\n",
        "- [ ] Run the zero-shot classification baseline with the new model and report the accuracy and confusion matrix.\n",
        "- [ ] Reflect on the performance of the new model compared to the original CLIP model\n",
        "  - How does the new model perform compared to the original CLIP model?\n",
        "  - Do you notice any differences in the types of errors made by the new model?\n",
        "\n",
        "### B. Multiple-Description Classification\n",
        "\n",
        "Another interesting experiment is to explore multiple-description classification. *This involves providing multiple text prompts for each class, allowing the model to choose the most relevant one. For example, instead of just \"T-shirt/top\", you could provide \"a photo of a T-shirt\", \"a photo of a top\", and \"a photo of a shirt\". This can help the model better understand the class and increases the likelihood of a correct prediction. You should:\n",
        "\n",
        "- [ ] Create a list of multiple prompts for each class.\n",
        "- [ ] Use the `get_text_embeddings` function to create text embeddings for the multiple prompts.\n",
        "- [ ] Run the zero-shot classification baseline again using the multiple prompts and report the accuracy and confusion matrix.\n",
        "- [ ] Consider the model to be correct if it guesses *any* of the prompts belonging to the correct class.\n",
        "\n",
        "### C. Top-K Classification\n",
        "\n",
        "In some classification tasks, it can be useful to consider if the right answer is among the top K (e.g. top 3) predictions. This can be particularly useful in cases where the model is uncertain or when there are multiple similar classes. You should:\n",
        "\n",
        "- [ ] Modify the `get_predictions` function to return the top K predictions for each image.\n",
        "- [ ] Modify the accuracy calculation to consider the model correct if the true class is among the top K predictions.\n",
        "- [ ] Report the accuracy and confusion matrix for the top K predictions. Report at least two different values of K (e.g. K=2 and K=4).\n",
        "\n",
        "### D. Other Ideas\n",
        "\n",
        "You are welcome to come up with your own mini-experiment! Explain your idea in the report and implement it. Did it work as you expected? What did you learn from it?"
      ]
    },
    {
      "cell_type": "markdown",
      "source": [
        "### Selection: `C. Top-K Classification`"
      ],
      "metadata": {
        "id": "_s32pdgH8UI_"
      },
      "id": "_s32pdgH8UI_"
    },
    {
      "cell_type": "code",
      "execution_count": null,
      "id": "94af85f8",
      "metadata": {
        "id": "94af85f8"
      },
      "outputs": [],
      "source": [
        "def get_predictions(similarity: np.ndarray, k: int = 3) -> np.ndarray:\n",
        "    \"\"\"\n",
        "    Get predictions based on cosine similarity scores.\n",
        "    Args:\n",
        "        similarity (numpy.ndarray): Cosine similarity matrix of shape (N, M), where N is the number of images and M is the number of text prompts.\n",
        "    Returns:\n",
        "        numpy.ndarray: top 3 predicted class indices for each image, shape (N,).\n",
        "    \"\"\"\n",
        "    # Get the index of the top three similarity for each image\n",
        "    return np.argsort(simis, axis=1)[:, -k:]"
      ]
    },
    {
      "cell_type": "markdown",
      "source": [
        "#### **Using top 3**"
      ],
      "metadata": {
        "id": "9Bmxjx9oxkEA"
      },
      "id": "9Bmxjx9oxkEA"
    },
    {
      "cell_type": "code",
      "source": [
        "y_true, y_pred = [], []\n",
        "\n",
        "for pixel_values, labels in test_loader:\n",
        "    # Report the accuracy of the predictions\n",
        "    text_embes = get_text_embeddings(CLASS_NAMES)\n",
        "    image_embes = get_image_embeddings(pixel_values)\n",
        "    simis = get_cosine_similarity(image_embes, text_embes)\n",
        "\n",
        "    # get preds\n",
        "    _preds = get_predictions(simis)\n",
        "    is_true = np.isin(labels, _preds)  # check if y_true is in top 3\n",
        "    preds = np.zeros(_preds.shape[0])  # create \"empty\" array\n",
        "    # print(_preds)\n",
        "    # print(_preds[:, 0].shape)\n",
        "    preds[~is_true] = _preds[:, 0][~is_true]  # populate empty array with prediction if y_true not in top 3\n",
        "    preds[is_true] = labels[is_true]  # populate empty array with y_true if y_true in top 3\n",
        "\n",
        "    y_true.append(labels.cpu().numpy())\n",
        "    y_pred.append(preds)"
      ],
      "metadata": {
        "id": "K_oC8jCq94-A"
      },
      "id": "K_oC8jCq94-A",
      "execution_count": null,
      "outputs": []
    },
    {
      "cell_type": "code",
      "source": [
        "_y_true = np.array(y_true).flatten()\n",
        "_y_pred = np.array(y_pred).flatten()\n",
        "\n",
        "print('Accuracy score: {}'.format(accuracy_score(_y_true, _y_pred)))"
      ],
      "metadata": {
        "colab": {
          "base_uri": "https://localhost:8080/"
        },
        "id": "J9N30rRyrY6P",
        "outputId": "13e1e614-7e6e-4ee7-ed74-2ca343f032b2"
      },
      "id": "J9N30rRyrY6P",
      "execution_count": null,
      "outputs": [
        {
          "output_type": "stream",
          "name": "stdout",
          "text": [
            "Accuracy score: 0.9939833333333333\n"
          ]
        }
      ]
    },
    {
      "cell_type": "code",
      "source": [
        "plot_confusion_matrix(_y_true, _y_pred, CLASS_NAMES)"
      ],
      "metadata": {
        "colab": {
          "base_uri": "https://localhost:8080/",
          "height": 807
        },
        "id": "J19a1PJUrZiy",
        "outputId": "9e0e8026-8182-4c4b-aa57-05a376437a3a"
      },
      "id": "J19a1PJUrZiy",
      "execution_count": null,
      "outputs": [
        {
          "output_type": "display_data",
          "data": {
            "text/plain": [
              "<Figure size 1000x800 with 2 Axes>"
            ],
            "image/png": "[encoded data removed]"
          },
          "metadata": {}
        }
      ]
    },
    {
      "cell_type": "markdown",
      "source": [
        "#### **Using top 2**"
      ],
      "metadata": {
        "id": "OnHG6PiRxoH5"
      },
      "id": "OnHG6PiRxoH5"
    },
    {
      "cell_type": "code",
      "source": [
        "y_true, y_pred = [], []\n",
        "\n",
        "for pixel_values, labels in test_loader:\n",
        "    # Report the accuracy of the predictions\n",
        "    text_embes = get_text_embeddings(CLASS_NAMES)\n",
        "    image_embes = get_image_embeddings(pixel_values)\n",
        "    simis = get_cosine_similarity(image_embes, text_embes)\n",
        "\n",
        "    # get preds\n",
        "    _preds = get_predictions(simis, 2)\n",
        "    is_true = np.isin(labels, _preds)  # check if y_true is in top 3\n",
        "    preds = np.zeros(_preds.shape[0])  # create \"empty\" array\n",
        "    # print(_preds)\n",
        "    # print(_preds[:, 0].shape)\n",
        "    preds[~is_true] = _preds[:, 0][~is_true]  # populate empty array with prediction if y_true not in top 3\n",
        "    preds[is_true] = labels[is_true]  # populate empty array with y_true if y_true in top 3\n",
        "\n",
        "    y_true.append(labels.cpu().numpy())\n",
        "    y_pred.append(preds)"
      ],
      "metadata": {
        "id": "fENRHX_G8zWY"
      },
      "id": "fENRHX_G8zWY",
      "execution_count": null,
      "outputs": []
    },
    {
      "cell_type": "code",
      "source": [
        "_y_true = np.array(y_true).flatten()\n",
        "_y_pred = np.array(y_pred).flatten()\n",
        "\n",
        "print('Accuracy score: {}'.format(accuracy_score(_y_true, _y_pred)))"
      ],
      "metadata": {
        "colab": {
          "base_uri": "https://localhost:8080/"
        },
        "id": "PsCd8J7iuLuX",
        "outputId": "31c4d09b-e23b-41a1-af62-b994ace66b99"
      },
      "id": "PsCd8J7iuLuX",
      "execution_count": null,
      "outputs": [
        {
          "output_type": "stream",
          "name": "stdout",
          "text": [
            "Accuracy score: 0.9781833333333333\n"
          ]
        }
      ]
    },
    {
      "cell_type": "code",
      "source": [
        "plot_confusion_matrix(_y_true, _y_pred, CLASS_NAMES)"
      ],
      "metadata": {
        "colab": {
          "base_uri": "https://localhost:8080/",
          "height": 807
        },
        "id": "s0mE6RrGuNXo",
        "outputId": "bb4908cb-56e7-4a94-b1cd-14fe1bd4edb8"
      },
      "id": "s0mE6RrGuNXo",
      "execution_count": null,
      "outputs": [
        {
          "output_type": "display_data",
          "data": {
            "text/plain": [
              "<Figure size 1000x800 with 2 Axes>"
            ],
            "image/png": "[encoded data removed]"
          },
          "metadata": {}
        }
      ]
    },
    {
      "cell_type": "markdown",
      "id": "234eab38",
      "metadata": {
        "id": "234eab38"
      },
      "source": [
        "### Short Report\n",
        "\n",
        "In this section, you will write a short report summarizing your findings from the mini-experiment. The report should include the following sections:\n",
        "\n",
        "- **Introduction**: Briefly describe the mini-experiment you conducted and its objectives.\n",
        "- **Methodology**: Explain the steps you took to conduct the experiment, including any modifications you made to the code or model.\n",
        "- **Results**: Present the results of your experiment.\n",
        "- **Discussion**: Reflect on the performance of the model and the implications of your findings. Consider the strengths and weaknesses of zero-shot transformers versus a trained CNN."
      ]
    },
    {
      "cell_type": "markdown",
      "source": [
        "### **Report**\n",
        "#### Introduction\n",
        "> Based on the idea that not only the largest cosine similarity score can be used to obtain the predicted class, but the top k cosine similarities, I tried improving the performance of the model by using the `Top-K Classification`\n",
        "> With this approach, the model not has a larger tolerance and its accuracy is improved. To examine the effect of k, two different k's were tested, 2 and 3.\n",
        "\n",
        "#### Methodology\n",
        "> 1. The `get_predictions` function was modified.\n",
        "> 2. Once the predictions were obtained, aditional treatment to the results was performed:\n",
        "\n",
        "\n",
        "```math\n",
        "For a single example:\n",
        "a. get_predictions --> predictions  # indices of top k cosine similarities\n",
        "b. if true_class \\in predictions:   # check if y_true is in top k\n",
        "c.  prediction = true_class\n",
        "d. else:\n",
        "e.  return prediction\n",
        "```\n",
        "For the above, matrix operations using numpy were performed along the `predictions` rows\n",
        "\n",
        "#### Results\n",
        "> The accuracy of the model was improved, from 0.58-0.63 to 0.98.\n",
        "\n",
        "#### Discussion\n",
        "> Considering the top 3 cosine similarities instead of the max value, improved the performance of the model. This approach does not consider whether or not the second before last cosine similarity is closer to the max(predictions). Accounting for such conditions could make the implementation more robust and granular."
      ],
      "metadata": {
        "id": "YB9HQvnhzHHi"
      },
      "id": "YB9HQvnhzHHi"
    },
    {
      "cell_type": "markdown",
      "id": "745659f3",
      "metadata": {
        "id": "745659f3"
      },
      "source": [
        "🚨 **Please review our [Assignment Submission Guide](https://github.com/UofT-DSI/onboarding/blob/main/onboarding_documents/submissions.md)** 🚨 for detailed instructions on how to format, branch, and submit your work. Following these guidelines is crucial for your submissions to be evaluated correctly.\n",
        "### Submission Parameters:\n",
        "* Submission Due Date: `23:59 PM - 18/07/2025`\n",
        "* The branch name for your repo should be: `assignment-2`\n",
        "* What to submit for this assignment:\n",
        "    * This Jupyter Notebook (assignment_2.ipynb)\n",
        "    * The Lab 3 notebook (labs/lab_3.ipynb)\n",
        "    * The Lab 4 notebook (labs/lab_4.ipynb)\n",
        "    * The Lab 5 notebook (labs/lab_5.ipynb)\n",
        "    * The Lab 6 notebook (labs/lab_6.ipynb)\n",
        "* What the pull request link should look like for this assignment: `https://github.com/<your_github_username>/deep_learning/pull/<pr_id>`\n",
        "* Open a private window in your browser. Copy and paste the link to your pull request into the address bar. Make sure you can see your pull request properly. This helps the technical facilitator and learning support staff review your submission easily.\n",
        "Checklist:\n",
        "- [ ] Created a branch with the correct naming convention.\n",
        "- [ ] Ensured that the repository is public.\n",
        "- [ ] Reviewed the PR description guidelines and adhered to them.\n",
        "- [ ] Verify that the link is accessible in a private browser window.\n",
        "If you encounter any difficulties or have questions, please don't hesitate to reach out to our team via our Slack at `#cohort-6-ml-help`. Our Technical Facilitators and Learning Support staff are here to help you navigate any challenges."
      ]
    },
    {
      "cell_type": "markdown",
      "id": "7ab2f7b8",
      "metadata": {
        "id": "7ab2f7b8"
      },
      "source": []
    }
  ],
  "metadata": {
    "kernelspec": {
      "display_name": "Python 3",
      "name": "python3"
    },
    "language_info": {
      "codemirror_mode": {
        "name": "ipython",
        "version": 3
      },
      "file_extension": ".py",
      "mimetype": "text/x-python",
      "name": "python",
      "nbconvert_exporter": "python",
      "pygments_lexer": "ipython3",
      "version": "3.12.11"
    },
    "colab": {
      "provenance": [],
      "machine_shape": "hm",
      "gpuType": "T4"
    },
    "accelerator": "GPU",
    "widgets": {
      "application/vnd.jupyter.widget-state+json": {
        "ba5cf29d4b90409d9002b12b954353b2": {
          "model_module": "@jupyter-widgets/controls",
          "model_name": "HBoxModel",
          "model_module_version": "1.5.0",
          "state": {
            "_dom_classes": [],
            "_model_module": "@jupyter-widgets/controls",
            "_model_module_version": "1.5.0",
            "_model_name": "HBoxModel",
            "_view_count": null,
            "_view_module": "@jupyter-widgets/controls",
            "_view_module_version": "1.5.0",
            "_view_name": "HBoxView",
            "box_style": "",
            "children": [
              "IPY_MODEL_f9fd87ef18c74565a87b24fca50863e8",
              "IPY_MODEL_bcfc7a57d7bf40f0ab3547abd40a200a",
              "IPY_MODEL_aff5f3243f0b400ab4ca73e3e9dac30b"
            ],
            "layout": "IPY_MODEL_4ba7cd23d3b8428aa2a124e34e2efaca"
          }
        },
        "f9fd87ef18c74565a87b24fca50863e8": {
          "model_module": "@jupyter-widgets/controls",
          "model_name": "HTMLModel",
          "model_module_version": "1.5.0",
          "state": {
            "_dom_classes": [],
            "_model_module": "@jupyter-widgets/controls",
            "_model_module_version": "1.5.0",
            "_model_name": "HTMLModel",
            "_view_count": null,
            "_view_module": "@jupyter-widgets/controls",
            "_view_module_version": "1.5.0",
            "_view_name": "HTMLView",
            "description": "",
            "description_tooltip": null,
            "layout": "IPY_MODEL_b90c10ceeb3f4d13aadd3bbd69aa5440",
            "placeholder": "​",
            "style": "IPY_MODEL_74582ad69c564f6c895ba058d9cb7b69",
            "value": "config.json: "
          }
        },
        "bcfc7a57d7bf40f0ab3547abd40a200a": {
          "model_module": "@jupyter-widgets/controls",
          "model_name": "FloatProgressModel",
          "model_module_version": "1.5.0",
          "state": {
            "_dom_classes": [],
            "_model_module": "@jupyter-widgets/controls",
            "_model_module_version": "1.5.0",
            "_model_name": "FloatProgressModel",
            "_view_count": null,
            "_view_module": "@jupyter-widgets/controls",
            "_view_module_version": "1.5.0",
            "_view_name": "ProgressView",
            "bar_style": "success",
            "description": "",
            "description_tooltip": null,
            "layout": "IPY_MODEL_a61707fae8d54f4bb3480853ece78a90",
            "max": 1,
            "min": 0,
            "orientation": "horizontal",
            "style": "IPY_MODEL_ea8b06b621b7480e8243889906793cdb",
            "value": 1
          }
        },
        "aff5f3243f0b400ab4ca73e3e9dac30b": {
          "model_module": "@jupyter-widgets/controls",
          "model_name": "HTMLModel",
          "model_module_version": "1.5.0",
          "state": {
            "_dom_classes": [],
            "_model_module": "@jupyter-widgets/controls",
            "_model_module_version": "1.5.0",
            "_model_name": "HTMLModel",
            "_view_count": null,
            "_view_module": "@jupyter-widgets/controls",
            "_view_module_version": "1.5.0",
            "_view_name": "HTMLView",
            "description": "",
            "description_tooltip": null,
            "layout": "IPY_MODEL_988fd7f4c2e1453d930736c8b7ce745b",
            "placeholder": "​",
            "style": "IPY_MODEL_abcd9fe4a3fa4194a0dcbd373852c9b7",
            "value": " 4.19k/? [00:00&lt;00:00, 465kB/s]"
          }
        },
        "4ba7cd23d3b8428aa2a124e34e2efaca": {
          "model_module": "@jupyter-widgets/base",
          "model_name": "LayoutModel",
          "model_module_version": "1.2.0",
          "state": {
            "_model_module": "@jupyter-widgets/base",
            "_model_module_version": "1.2.0",
            "_model_name": "LayoutModel",
            "_view_count": null,
            "_view_module": "@jupyter-widgets/base",
            "_view_module_version": "1.2.0",
            "_view_name": "LayoutView",
            "align_content": null,
            "align_items": null,
            "align_self": null,
            "border": null,
            "bottom": null,
            "display": null,
            "flex": null,
            "flex_flow": null,
            "grid_area": null,
            "grid_auto_columns": null,
            "grid_auto_flow": null,
            "grid_auto_rows": null,
            "grid_column": null,
            "grid_gap": null,
            "grid_row": null,
            "grid_template_areas": null,
            "grid_template_columns": null,
            "grid_template_rows": null,
            "height": null,
            "justify_content": null,
            "justify_items": null,
            "left": null,
            "margin": null,
            "max_height": null,
            "max_width": null,
            "min_height": null,
            "min_width": null,
            "object_fit": null,
            "object_position": null,
            "order": null,
            "overflow": null,
            "overflow_x": null,
            "overflow_y": null,
            "padding": null,
            "right": null,
            "top": null,
            "visibility": null,
            "width": null
          }
        },
        "b90c10ceeb3f4d13aadd3bbd69aa5440": {
          "model_module": "@jupyter-widgets/base",
          "model_name": "LayoutModel",
          "model_module_version": "1.2.0",
          "state": {
            "_model_module": "@jupyter-widgets/base",
            "_model_module_version": "1.2.0",
            "_model_name": "LayoutModel",
            "_view_count": null,
            "_view_module": "@jupyter-widgets/base",
            "_view_module_version": "1.2.0",
            "_view_name": "LayoutView",
            "align_content": null,
            "align_items": null,
            "align_self": null,
            "border": null,
            "bottom": null,
            "display": null,
            "flex": null,
            "flex_flow": null,
            "grid_area": null,
            "grid_auto_columns": null,
            "grid_auto_flow": null,
            "grid_auto_rows": null,
            "grid_column": null,
            "grid_gap": null,
            "grid_row": null,
            "grid_template_areas": null,
            "grid_template_columns": null,
            "grid_template_rows": null,
            "height": null,
            "justify_content": null,
            "justify_items": null,
            "left": null,
            "margin": null,
            "max_height": null,
            "max_width": null,
            "min_height": null,
            "min_width": null,
            "object_fit": null,
            "object_position": null,
            "order": null,
            "overflow": null,
            "overflow_x": null,
            "overflow_y": null,
            "padding": null,
            "right": null,
            "top": null,
            "visibility": null,
            "width": null
          }
        },
        "74582ad69c564f6c895ba058d9cb7b69": {
          "model_module": "@jupyter-widgets/controls",
          "model_name": "DescriptionStyleModel",
          "model_module_version": "1.5.0",
          "state": {
            "_model_module": "@jupyter-widgets/controls",
            "_model_module_version": "1.5.0",
            "_model_name": "DescriptionStyleModel",
            "_view_count": null,
            "_view_module": "@jupyter-widgets/base",
            "_view_module_version": "1.2.0",
            "_view_name": "StyleView",
            "description_width": ""
          }
        },
        "a61707fae8d54f4bb3480853ece78a90": {
          "model_module": "@jupyter-widgets/base",
          "model_name": "LayoutModel",
          "model_module_version": "1.2.0",
          "state": {
            "_model_module": "@jupyter-widgets/base",
            "_model_module_version": "1.2.0",
            "_model_name": "LayoutModel",
            "_view_count": null,
            "_view_module": "@jupyter-widgets/base",
            "_view_module_version": "1.2.0",
            "_view_name": "LayoutView",
            "align_content": null,
            "align_items": null,
            "align_self": null,
            "border": null,
            "bottom": null,
            "display": null,
            "flex": null,
            "flex_flow": null,
            "grid_area": null,
            "grid_auto_columns": null,
            "grid_auto_flow": null,
            "grid_auto_rows": null,
            "grid_column": null,
            "grid_gap": null,
            "grid_row": null,
            "grid_template_areas": null,
            "grid_template_columns": null,
            "grid_template_rows": null,
            "height": null,
            "justify_content": null,
            "justify_items": null,
            "left": null,
            "margin": null,
            "max_height": null,
            "max_width": null,
            "min_height": null,
            "min_width": null,
            "object_fit": null,
            "object_position": null,
            "order": null,
            "overflow": null,
            "overflow_x": null,
            "overflow_y": null,
            "padding": null,
            "right": null,
            "top": null,
            "visibility": null,
            "width": "20px"
          }
        },
        "ea8b06b621b7480e8243889906793cdb": {
          "model_module": "@jupyter-widgets/controls",
          "model_name": "ProgressStyleModel",
          "model_module_version": "1.5.0",
          "state": {
            "_model_module": "@jupyter-widgets/controls",
            "_model_module_version": "1.5.0",
            "_model_name": "ProgressStyleModel",
            "_view_count": null,
            "_view_module": "@jupyter-widgets/base",
            "_view_module_version": "1.2.0",
            "_view_name": "StyleView",
            "bar_color": null,
            "description_width": ""
          }
        },
        "988fd7f4c2e1453d930736c8b7ce745b": {
          "model_module": "@jupyter-widgets/base",
          "model_name": "LayoutModel",
          "model_module_version": "1.2.0",
          "state": {
            "_model_module": "@jupyter-widgets/base",
            "_model_module_version": "1.2.0",
            "_model_name": "LayoutModel",
            "_view_count": null,
            "_view_module": "@jupyter-widgets/base",
            "_view_module_version": "1.2.0",
            "_view_name": "LayoutView",
            "align_content": null,
            "align_items": null,
            "align_self": null,
            "border": null,
            "bottom": null,
            "display": null,
            "flex": null,
            "flex_flow": null,
            "grid_area": null,
            "grid_auto_columns": null,
            "grid_auto_flow": null,
            "grid_auto_rows": null,
            "grid_column": null,
            "grid_gap": null,
            "grid_row": null,
            "grid_template_areas": null,
            "grid_template_columns": null,
            "grid_template_rows": null,
            "height": null,
            "justify_content": null,
            "justify_items": null,
            "left": null,
            "margin": null,
            "max_height": null,
            "max_width": null,
            "min_height": null,
            "min_width": null,
            "object_fit": null,
            "object_position": null,
            "order": null,
            "overflow": null,
            "overflow_x": null,
            "overflow_y": null,
            "padding": null,
            "right": null,
            "top": null,
            "visibility": null,
            "width": null
          }
        },
        "abcd9fe4a3fa4194a0dcbd373852c9b7": {
          "model_module": "@jupyter-widgets/controls",
          "model_name": "DescriptionStyleModel",
          "model_module_version": "1.5.0",
          "state": {
            "_model_module": "@jupyter-widgets/controls",
            "_model_module_version": "1.5.0",
            "_model_name": "DescriptionStyleModel",
            "_view_count": null,
            "_view_module": "@jupyter-widgets/base",
            "_view_module_version": "1.2.0",
            "_view_name": "StyleView",
            "description_width": ""
          }
        },
        "953a02236ddb406d870d1cd4c34f25ff": {
          "model_module": "@jupyter-widgets/controls",
          "model_name": "HBoxModel",
          "model_module_version": "1.5.0",
          "state": {
            "_dom_classes": [],
            "_model_module": "@jupyter-widgets/controls",
            "_model_module_version": "1.5.0",
            "_model_name": "HBoxModel",
            "_view_count": null,
            "_view_module": "@jupyter-widgets/controls",
            "_view_module_version": "1.5.0",
            "_view_name": "HBoxView",
            "box_style": "",
            "children": [
              "IPY_MODEL_053fe6d84365454b8ad0cc9f5e79a956",
              "IPY_MODEL_dad35aaba99b493cb5f43e781817dba5",
              "IPY_MODEL_dcd411350dd146ec933b18125542cba8"
            ],
            "layout": "IPY_MODEL_090940870d71485a91e05d3dd7ab1f0d"
          }
        },
        "053fe6d84365454b8ad0cc9f5e79a956": {
          "model_module": "@jupyter-widgets/controls",
          "model_name": "HTMLModel",
          "model_module_version": "1.5.0",
          "state": {
            "_dom_classes": [],
            "_model_module": "@jupyter-widgets/controls",
            "_model_module_version": "1.5.0",
            "_model_name": "HTMLModel",
            "_view_count": null,
            "_view_module": "@jupyter-widgets/controls",
            "_view_module_version": "1.5.0",
            "_view_name": "HTMLView",
            "description": "",
            "description_tooltip": null,
            "layout": "IPY_MODEL_6a8f4b76c0184a998b3a36441ff42089",
            "placeholder": "​",
            "style": "IPY_MODEL_0c54659e30134349938ba38783a7e4ec",
            "value": "pytorch_model.bin: 100%"
          }
        },
        "dad35aaba99b493cb5f43e781817dba5": {
          "model_module": "@jupyter-widgets/controls",
          "model_name": "FloatProgressModel",
          "model_module_version": "1.5.0",
          "state": {
            "_dom_classes": [],
            "_model_module": "@jupyter-widgets/controls",
            "_model_module_version": "1.5.0",
            "_model_name": "FloatProgressModel",
            "_view_count": null,
            "_view_module": "@jupyter-widgets/controls",
            "_view_module_version": "1.5.0",
            "_view_name": "ProgressView",
            "bar_style": "success",
            "description": "",
            "description_tooltip": null,
            "layout": "IPY_MODEL_63eae22b97cd4f6f838ea459de85bd3a",
            "max": 605247071,
            "min": 0,
            "orientation": "horizontal",
            "style": "IPY_MODEL_a978025f3ba5416e8cf9723bfcbca621",
            "value": 605247071
          }
        },
        "dcd411350dd146ec933b18125542cba8": {
          "model_module": "@jupyter-widgets/controls",
          "model_name": "HTMLModel",
          "model_module_version": "1.5.0",
          "state": {
            "_dom_classes": [],
            "_model_module": "@jupyter-widgets/controls",
            "_model_module_version": "1.5.0",
            "_model_name": "HTMLModel",
            "_view_count": null,
            "_view_module": "@jupyter-widgets/controls",
            "_view_module_version": "1.5.0",
            "_view_name": "HTMLView",
            "description": "",
            "description_tooltip": null,
            "layout": "IPY_MODEL_4d59dfbf8c7e4723b62963fce73306b9",
            "placeholder": "​",
            "style": "IPY_MODEL_88037cb00cdb4e448445960d07ecd04f",
            "value": " 605M/605M [00:03&lt;00:00, 450MB/s]"
          }
        },
        "090940870d71485a91e05d3dd7ab1f0d": {
          "model_module": "@jupyter-widgets/base",
          "model_name": "LayoutModel",
          "model_module_version": "1.2.0",
          "state": {
            "_model_module": "@jupyter-widgets/base",
            "_model_module_version": "1.2.0",
            "_model_name": "LayoutModel",
            "_view_count": null,
            "_view_module": "@jupyter-widgets/base",
            "_view_module_version": "1.2.0",
            "_view_name": "LayoutView",
            "align_content": null,
            "align_items": null,
            "align_self": null,
            "border": null,
            "bottom": null,
            "display": null,
            "flex": null,
            "flex_flow": null,
            "grid_area": null,
            "grid_auto_columns": null,
            "grid_auto_flow": null,
            "grid_auto_rows": null,
            "grid_column": null,
            "grid_gap": null,
            "grid_row": null,
            "grid_template_areas": null,
            "grid_template_columns": null,
            "grid_template_rows": null,
            "height": null,
            "justify_content": null,
            "justify_items": null,
            "left": null,
            "margin": null,
            "max_height": null,
            "max_width": null,
            "min_height": null,
            "min_width": null,
            "object_fit": null,
            "object_position": null,
            "order": null,
            "overflow": null,
            "overflow_x": null,
            "overflow_y": null,
            "padding": null,
            "right": null,
            "top": null,
            "visibility": null,
            "width": null
          }
        },
        "6a8f4b76c0184a998b3a36441ff42089": {
          "model_module": "@jupyter-widgets/base",
          "model_name": "LayoutModel",
          "model_module_version": "1.2.0",
          "state": {
            "_model_module": "@jupyter-widgets/base",
            "_model_module_version": "1.2.0",
            "_model_name": "LayoutModel",
            "_view_count": null,
            "_view_module": "@jupyter-widgets/base",
            "_view_module_version": "1.2.0",
            "_view_name": "LayoutView",
            "align_content": null,
            "align_items": null,
            "align_self": null,
            "border": null,
            "bottom": null,
            "display": null,
            "flex": null,
            "flex_flow": null,
            "grid_area": null,
            "grid_auto_columns": null,
            "grid_auto_flow": null,
            "grid_auto_rows": null,
            "grid_column": null,
            "grid_gap": null,
            "grid_row": null,
            "grid_template_areas": null,
            "grid_template_columns": null,
            "grid_template_rows": null,
            "height": null,
            "justify_content": null,
            "justify_items": null,
            "left": null,
            "margin": null,
            "max_height": null,
            "max_width": null,
            "min_height": null,
            "min_width": null,
            "object_fit": null,
            "object_position": null,
            "order": null,
            "overflow": null,
            "overflow_x": null,
            "overflow_y": null,
            "padding": null,
            "right": null,
            "top": null,
            "visibility": null,
            "width": null
          }
        },
        "0c54659e30134349938ba38783a7e4ec": {
          "model_module": "@jupyter-widgets/controls",
          "model_name": "DescriptionStyleModel",
          "model_module_version": "1.5.0",
          "state": {
            "_model_module": "@jupyter-widgets/controls",
            "_model_module_version": "1.5.0",
            "_model_name": "DescriptionStyleModel",
            "_view_count": null,
            "_view_module": "@jupyter-widgets/base",
            "_view_module_version": "1.2.0",
            "_view_name": "StyleView",
            "description_width": ""
          }
        },
        "63eae22b97cd4f6f838ea459de85bd3a": {
          "model_module": "@jupyter-widgets/base",
          "model_name": "LayoutModel",
          "model_module_version": "1.2.0",
          "state": {
            "_model_module": "@jupyter-widgets/base",
            "_model_module_version": "1.2.0",
            "_model_name": "LayoutModel",
            "_view_count": null,
            "_view_module": "@jupyter-widgets/base",
            "_view_module_version": "1.2.0",
            "_view_name": "LayoutView",
            "align_content": null,
            "align_items": null,
            "align_self": null,
            "border": null,
            "bottom": null,
            "display": null,
            "flex": null,
            "flex_flow": null,
            "grid_area": null,
            "grid_auto_columns": null,
            "grid_auto_flow": null,
            "grid_auto_rows": null,
            "grid_column": null,
            "grid_gap": null,
            "grid_row": null,
            "grid_template_areas": null,
            "grid_template_columns": null,
            "grid_template_rows": null,
            "height": null,
            "justify_content": null,
            "justify_items": null,
            "left": null,
            "margin": null,
            "max_height": null,
            "max_width": null,
            "min_height": null,
            "min_width": null,
            "object_fit": null,
            "object_position": null,
            "order": null,
            "overflow": null,
            "overflow_x": null,
            "overflow_y": null,
            "padding": null,
            "right": null,
            "top": null,
            "visibility": null,
            "width": null
          }
        },
        "a978025f3ba5416e8cf9723bfcbca621": {
          "model_module": "@jupyter-widgets/controls",
          "model_name": "ProgressStyleModel",
          "model_module_version": "1.5.0",
          "state": {
            "_model_module": "@jupyter-widgets/controls",
            "_model_module_version": "1.5.0",
            "_model_name": "ProgressStyleModel",
            "_view_count": null,
            "_view_module": "@jupyter-widgets/base",
            "_view_module_version": "1.2.0",
            "_view_name": "StyleView",
            "bar_color": null,
            "description_width": ""
          }
        },
        "4d59dfbf8c7e4723b62963fce73306b9": {
          "model_module": "@jupyter-widgets/base",
          "model_name": "LayoutModel",
          "model_module_version": "1.2.0",
          "state": {
            "_model_module": "@jupyter-widgets/base",
            "_model_module_version": "1.2.0",
            "_model_name": "LayoutModel",
            "_view_count": null,
            "_view_module": "@jupyter-widgets/base",
            "_view_module_version": "1.2.0",
            "_view_name": "LayoutView",
            "align_content": null,
            "align_items": null,
            "align_self": null,
            "border": null,
            "bottom": null,
            "display": null,
            "flex": null,
            "flex_flow": null,
            "grid_area": null,
            "grid_auto_columns": null,
            "grid_auto_flow": null,
            "grid_auto_rows": null,
            "grid_column": null,
            "grid_gap": null,
            "grid_row": null,
            "grid_template_areas": null,
            "grid_template_columns": null,
            "grid_template_rows": null,
            "height": null,
            "justify_content": null,
            "justify_items": null,
            "left": null,
            "margin": null,
            "max_height": null,
            "max_width": null,
            "min_height": null,
            "min_width": null,
            "object_fit": null,
            "object_position": null,
            "order": null,
            "overflow": null,
            "overflow_x": null,
            "overflow_y": null,
            "padding": null,
            "right": null,
            "top": null,
            "visibility": null,
            "width": null
          }
        },
        "88037cb00cdb4e448445960d07ecd04f": {
          "model_module": "@jupyter-widgets/controls",
          "model_name": "DescriptionStyleModel",
          "model_module_version": "1.5.0",
          "state": {
            "_model_module": "@jupyter-widgets/controls",
            "_model_module_version": "1.5.0",
            "_model_name": "DescriptionStyleModel",
            "_view_count": null,
            "_view_module": "@jupyter-widgets/base",
            "_view_module_version": "1.2.0",
            "_view_name": "StyleView",
            "description_width": ""
          }
        },
        "40f16553279646a98b358d752e70ede9": {
          "model_module": "@jupyter-widgets/controls",
          "model_name": "HBoxModel",
          "model_module_version": "1.5.0",
          "state": {
            "_dom_classes": [],
            "_model_module": "@jupyter-widgets/controls",
            "_model_module_version": "1.5.0",
            "_model_name": "HBoxModel",
            "_view_count": null,
            "_view_module": "@jupyter-widgets/controls",
            "_view_module_version": "1.5.0",
            "_view_name": "HBoxView",
            "box_style": "",
            "children": [
              "IPY_MODEL_8ccfbe50dd0d483a8791ea62a277a9f5",
              "IPY_MODEL_3c72d6f024b64b07a3d5255e5e7aa3e0",
              "IPY_MODEL_aa1d9ecce1c64921b906e393c7bcb33b"
            ],
            "layout": "IPY_MODEL_731d2f0a62d2428a9ff03dcd26023a8a"
          }
        },
        "8ccfbe50dd0d483a8791ea62a277a9f5": {
          "model_module": "@jupyter-widgets/controls",
          "model_name": "HTMLModel",
          "model_module_version": "1.5.0",
          "state": {
            "_dom_classes": [],
            "_model_module": "@jupyter-widgets/controls",
            "_model_module_version": "1.5.0",
            "_model_name": "HTMLModel",
            "_view_count": null,
            "_view_module": "@jupyter-widgets/controls",
            "_view_module_version": "1.5.0",
            "_view_name": "HTMLView",
            "description": "",
            "description_tooltip": null,
            "layout": "IPY_MODEL_be003d1724244b9ab77bfe65bb8c4ac4",
            "placeholder": "​",
            "style": "IPY_MODEL_7ec87e28b806477ba540d9f242562baf",
            "value": "preprocessor_config.json: 100%"
          }
        },
        "3c72d6f024b64b07a3d5255e5e7aa3e0": {
          "model_module": "@jupyter-widgets/controls",
          "model_name": "FloatProgressModel",
          "model_module_version": "1.5.0",
          "state": {
            "_dom_classes": [],
            "_model_module": "@jupyter-widgets/controls",
            "_model_module_version": "1.5.0",
            "_model_name": "FloatProgressModel",
            "_view_count": null,
            "_view_module": "@jupyter-widgets/controls",
            "_view_module_version": "1.5.0",
            "_view_name": "ProgressView",
            "bar_style": "success",
            "description": "",
            "description_tooltip": null,
            "layout": "IPY_MODEL_c0a61d5e09ab49e2a089e9d762d0c046",
            "max": 316,
            "min": 0,
            "orientation": "horizontal",
            "style": "IPY_MODEL_7f76046cb439418a91cf27dd58d6d7d4",
            "value": 316
          }
        },
        "aa1d9ecce1c64921b906e393c7bcb33b": {
          "model_module": "@jupyter-widgets/controls",
          "model_name": "HTMLModel",
          "model_module_version": "1.5.0",
          "state": {
            "_dom_classes": [],
            "_model_module": "@jupyter-widgets/controls",
            "_model_module_version": "1.5.0",
            "_model_name": "HTMLModel",
            "_view_count": null,
            "_view_module": "@jupyter-widgets/controls",
            "_view_module_version": "1.5.0",
            "_view_name": "HTMLView",
            "description": "",
            "description_tooltip": null,
            "layout": "IPY_MODEL_fd1c6b01575b4dd7a7c6c0c45958e1ab",
            "placeholder": "​",
            "style": "IPY_MODEL_ce0989b3cfb744e98efb3fc17f19aae0",
            "value": " 316/316 [00:00&lt;00:00, 41.0kB/s]"
          }
        },
        "731d2f0a62d2428a9ff03dcd26023a8a": {
          "model_module": "@jupyter-widgets/base",
          "model_name": "LayoutModel",
          "model_module_version": "1.2.0",
          "state": {
            "_model_module": "@jupyter-widgets/base",
            "_model_module_version": "1.2.0",
            "_model_name": "LayoutModel",
            "_view_count": null,
            "_view_module": "@jupyter-widgets/base",
            "_view_module_version": "1.2.0",
            "_view_name": "LayoutView",
            "align_content": null,
            "align_items": null,
            "align_self": null,
            "border": null,
            "bottom": null,
            "display": null,
            "flex": null,
            "flex_flow": null,
            "grid_area": null,
            "grid_auto_columns": null,
            "grid_auto_flow": null,
            "grid_auto_rows": null,
            "grid_column": null,
            "grid_gap": null,
            "grid_row": null,
            "grid_template_areas": null,
            "grid_template_columns": null,
            "grid_template_rows": null,
            "height": null,
            "justify_content": null,
            "justify_items": null,
            "left": null,
            "margin": null,
            "max_height": null,
            "max_width": null,
            "min_height": null,
            "min_width": null,
            "object_fit": null,
            "object_position": null,
            "order": null,
            "overflow": null,
            "overflow_x": null,
            "overflow_y": null,
            "padding": null,
            "right": null,
            "top": null,
            "visibility": null,
            "width": null
          }
        },
        "be003d1724244b9ab77bfe65bb8c4ac4": {
          "model_module": "@jupyter-widgets/base",
          "model_name": "LayoutModel",
          "model_module_version": "1.2.0",
          "state": {
            "_model_module": "@jupyter-widgets/base",
            "_model_module_version": "1.2.0",
            "_model_name": "LayoutModel",
            "_view_count": null,
            "_view_module": "@jupyter-widgets/base",
            "_view_module_version": "1.2.0",
            "_view_name": "LayoutView",
            "align_content": null,
            "align_items": null,
            "align_self": null,
            "border": null,
            "bottom": null,
            "display": null,
            "flex": null,
            "flex_flow": null,
            "grid_area": null,
            "grid_auto_columns": null,
            "grid_auto_flow": null,
            "grid_auto_rows": null,
            "grid_column": null,
            "grid_gap": null,
            "grid_row": null,
            "grid_template_areas": null,
            "grid_template_columns": null,
            "grid_template_rows": null,
            "height": null,
            "justify_content": null,
            "justify_items": null,
            "left": null,
            "margin": null,
            "max_height": null,
            "max_width": null,
            "min_height": null,
            "min_width": null,
            "object_fit": null,
            "object_position": null,
            "order": null,
            "overflow": null,
            "overflow_x": null,
            "overflow_y": null,
            "padding": null,
            "right": null,
            "top": null,
            "visibility": null,
            "width": null
          }
        },
        "7ec87e28b806477ba540d9f242562baf": {
          "model_module": "@jupyter-widgets/controls",
          "model_name": "DescriptionStyleModel",
          "model_module_version": "1.5.0",
          "state": {
            "_model_module": "@jupyter-widgets/controls",
            "_model_module_version": "1.5.0",
            "_model_name": "DescriptionStyleModel",
            "_view_count": null,
            "_view_module": "@jupyter-widgets/base",
            "_view_module_version": "1.2.0",
            "_view_name": "StyleView",
            "description_width": ""
          }
        },
        "c0a61d5e09ab49e2a089e9d762d0c046": {
          "model_module": "@jupyter-widgets/base",
          "model_name": "LayoutModel",
          "model_module_version": "1.2.0",
          "state": {
            "_model_module": "@jupyter-widgets/base",
            "_model_module_version": "1.2.0",
            "_model_name": "LayoutModel",
            "_view_count": null,
            "_view_module": "@jupyter-widgets/base",
            "_view_module_version": "1.2.0",
            "_view_name": "LayoutView",
            "align_content": null,
            "align_items": null,
            "align_self": null,
            "border": null,
            "bottom": null,
            "display": null,
            "flex": null,
            "flex_flow": null,
            "grid_area": null,
            "grid_auto_columns": null,
            "grid_auto_flow": null,
            "grid_auto_rows": null,
            "grid_column": null,
            "grid_gap": null,
            "grid_row": null,
            "grid_template_areas": null,
            "grid_template_columns": null,
            "grid_template_rows": null,
            "height": null,
            "justify_content": null,
            "justify_items": null,
            "left": null,
            "margin": null,
            "max_height": null,
            "max_width": null,
            "min_height": null,
            "min_width": null,
            "object_fit": null,
            "object_position": null,
            "order": null,
            "overflow": null,
            "overflow_x": null,
            "overflow_y": null,
            "padding": null,
            "right": null,
            "top": null,
            "visibility": null,
            "width": null
          }
        },
        "7f76046cb439418a91cf27dd58d6d7d4": {
          "model_module": "@jupyter-widgets/controls",
          "model_name": "ProgressStyleModel",
          "model_module_version": "1.5.0",
          "state": {
            "_model_module": "@jupyter-widgets/controls",
            "_model_module_version": "1.5.0",
            "_model_name": "ProgressStyleModel",
            "_view_count": null,
            "_view_module": "@jupyter-widgets/base",
            "_view_module_version": "1.2.0",
            "_view_name": "StyleView",
            "bar_color": null,
            "description_width": ""
          }
        },
        "fd1c6b01575b4dd7a7c6c0c45958e1ab": {
          "model_module": "@jupyter-widgets/base",
          "model_name": "LayoutModel",
          "model_module_version": "1.2.0",
          "state": {
            "_model_module": "@jupyter-widgets/base",
            "_model_module_version": "1.2.0",
            "_model_name": "LayoutModel",
            "_view_count": null,
            "_view_module": "@jupyter-widgets/base",
            "_view_module_version": "1.2.0",
            "_view_name": "LayoutView",
            "align_content": null,
            "align_items": null,
            "align_self": null,
            "border": null,
            "bottom": null,
            "display": null,
            "flex": null,
            "flex_flow": null,
            "grid_area": null,
            "grid_auto_columns": null,
            "grid_auto_flow": null,
            "grid_auto_rows": null,
            "grid_column": null,
            "grid_gap": null,
            "grid_row": null,
            "grid_template_areas": null,
            "grid_template_columns": null,
            "grid_template_rows": null,
            "height": null,
            "justify_content": null,
            "justify_items": null,
            "left": null,
            "margin": null,
            "max_height": null,
            "max_width": null,
            "min_height": null,
            "min_width": null,
            "object_fit": null,
            "object_position": null,
            "order": null,
            "overflow": null,
            "overflow_x": null,
            "overflow_y": null,
            "padding": null,
            "right": null,
            "top": null,
            "visibility": null,
            "width": null
          }
        },
        "ce0989b3cfb744e98efb3fc17f19aae0": {
          "model_module": "@jupyter-widgets/controls",
          "model_name": "DescriptionStyleModel",
          "model_module_version": "1.5.0",
          "state": {
            "_model_module": "@jupyter-widgets/controls",
            "_model_module_version": "1.5.0",
            "_model_name": "DescriptionStyleModel",
            "_view_count": null,
            "_view_module": "@jupyter-widgets/base",
            "_view_module_version": "1.2.0",
            "_view_name": "StyleView",
            "description_width": ""
          }
        },
        "68a86a19465d4fbba45007a8accf1dfe": {
          "model_module": "@jupyter-widgets/controls",
          "model_name": "HBoxModel",
          "model_module_version": "1.5.0",
          "state": {
            "_dom_classes": [],
            "_model_module": "@jupyter-widgets/controls",
            "_model_module_version": "1.5.0",
            "_model_name": "HBoxModel",
            "_view_count": null,
            "_view_module": "@jupyter-widgets/controls",
            "_view_module_version": "1.5.0",
            "_view_name": "HBoxView",
            "box_style": "",
            "children": [
              "IPY_MODEL_3036d38bb143466e8a47e20b63569fd0",
              "IPY_MODEL_c93464a41e8c4c90aecd591b981d5b24",
              "IPY_MODEL_dc778dab1bfe49a6a27780e0197c8afe"
            ],
            "layout": "IPY_MODEL_9a2bce742be944e79b1e94b0b21003ca"
          }
        },
        "3036d38bb143466e8a47e20b63569fd0": {
          "model_module": "@jupyter-widgets/controls",
          "model_name": "HTMLModel",
          "model_module_version": "1.5.0",
          "state": {
            "_dom_classes": [],
            "_model_module": "@jupyter-widgets/controls",
            "_model_module_version": "1.5.0",
            "_model_name": "HTMLModel",
            "_view_count": null,
            "_view_module": "@jupyter-widgets/controls",
            "_view_module_version": "1.5.0",
            "_view_name": "HTMLView",
            "description": "",
            "description_tooltip": null,
            "layout": "IPY_MODEL_99ef636621fe40e382cdf66801e7acf5",
            "placeholder": "​",
            "style": "IPY_MODEL_ef7dcd23362443b5a2c92fba37e51bf6",
            "value": "tokenizer_config.json: 100%"
          }
        },
        "c93464a41e8c4c90aecd591b981d5b24": {
          "model_module": "@jupyter-widgets/controls",
          "model_name": "FloatProgressModel",
          "model_module_version": "1.5.0",
          "state": {
            "_dom_classes": [],
            "_model_module": "@jupyter-widgets/controls",
            "_model_module_version": "1.5.0",
            "_model_name": "FloatProgressModel",
            "_view_count": null,
            "_view_module": "@jupyter-widgets/controls",
            "_view_module_version": "1.5.0",
            "_view_name": "ProgressView",
            "bar_style": "success",
            "description": "",
            "description_tooltip": null,
            "layout": "IPY_MODEL_2d2b4d892e6545918ce08ff6fddc0f0f",
            "max": 592,
            "min": 0,
            "orientation": "horizontal",
            "style": "IPY_MODEL_156aa8b338c3476aa4440edcdc286826",
            "value": 592
          }
        },
        "dc778dab1bfe49a6a27780e0197c8afe": {
          "model_module": "@jupyter-widgets/controls",
          "model_name": "HTMLModel",
          "model_module_version": "1.5.0",
          "state": {
            "_dom_classes": [],
            "_model_module": "@jupyter-widgets/controls",
            "_model_module_version": "1.5.0",
            "_model_name": "HTMLModel",
            "_view_count": null,
            "_view_module": "@jupyter-widgets/controls",
            "_view_module_version": "1.5.0",
            "_view_name": "HTMLView",
            "description": "",
            "description_tooltip": null,
            "layout": "IPY_MODEL_cce6644a53a64a2aa69533627779ba38",
            "placeholder": "​",
            "style": "IPY_MODEL_d1c556199b1f4ac5a9c3bb7cf8ea76a5",
            "value": " 592/592 [00:00&lt;00:00, 80.4kB/s]"
          }
        },
        "9a2bce742be944e79b1e94b0b21003ca": {
          "model_module": "@jupyter-widgets/base",
          "model_name": "LayoutModel",
          "model_module_version": "1.2.0",
          "state": {
            "_model_module": "@jupyter-widgets/base",
            "_model_module_version": "1.2.0",
            "_model_name": "LayoutModel",
            "_view_count": null,
            "_view_module": "@jupyter-widgets/base",
            "_view_module_version": "1.2.0",
            "_view_name": "LayoutView",
            "align_content": null,
            "align_items": null,
            "align_self": null,
            "border": null,
            "bottom": null,
            "display": null,
            "flex": null,
            "flex_flow": null,
            "grid_area": null,
            "grid_auto_columns": null,
            "grid_auto_flow": null,
            "grid_auto_rows": null,
            "grid_column": null,
            "grid_gap": null,
            "grid_row": null,
            "grid_template_areas": null,
            "grid_template_columns": null,
            "grid_template_rows": null,
            "height": null,
            "justify_content": null,
            "justify_items": null,
            "left": null,
            "margin": null,
            "max_height": null,
            "max_width": null,
            "min_height": null,
            "min_width": null,
            "object_fit": null,
            "object_position": null,
            "order": null,
            "overflow": null,
            "overflow_x": null,
            "overflow_y": null,
            "padding": null,
            "right": null,
            "top": null,
            "visibility": null,
            "width": null
          }
        },
        "99ef636621fe40e382cdf66801e7acf5": {
          "model_module": "@jupyter-widgets/base",
          "model_name": "LayoutModel",
          "model_module_version": "1.2.0",
          "state": {
            "_model_module": "@jupyter-widgets/base",
            "_model_module_version": "1.2.0",
            "_model_name": "LayoutModel",
            "_view_count": null,
            "_view_module": "@jupyter-widgets/base",
            "_view_module_version": "1.2.0",
            "_view_name": "LayoutView",
            "align_content": null,
            "align_items": null,
            "align_self": null,
            "border": null,
            "bottom": null,
            "display": null,
            "flex": null,
            "flex_flow": null,
            "grid_area": null,
            "grid_auto_columns": null,
            "grid_auto_flow": null,
            "grid_auto_rows": null,
            "grid_column": null,
            "grid_gap": null,
            "grid_row": null,
            "grid_template_areas": null,
            "grid_template_columns": null,
            "grid_template_rows": null,
            "height": null,
            "justify_content": null,
            "justify_items": null,
            "left": null,
            "margin": null,
            "max_height": null,
            "max_width": null,
            "min_height": null,
            "min_width": null,
            "object_fit": null,
            "object_position": null,
            "order": null,
            "overflow": null,
            "overflow_x": null,
            "overflow_y": null,
            "padding": null,
            "right": null,
            "top": null,
            "visibility": null,
            "width": null
          }
        },
        "ef7dcd23362443b5a2c92fba37e51bf6": {
          "model_module": "@jupyter-widgets/controls",
          "model_name": "DescriptionStyleModel",
          "model_module_version": "1.5.0",
          "state": {
            "_model_module": "@jupyter-widgets/controls",
            "_model_module_version": "1.5.0",
            "_model_name": "DescriptionStyleModel",
            "_view_count": null,
            "_view_module": "@jupyter-widgets/base",
            "_view_module_version": "1.2.0",
            "_view_name": "StyleView",
            "description_width": ""
          }
        },
        "2d2b4d892e6545918ce08ff6fddc0f0f": {
          "model_module": "@jupyter-widgets/base",
          "model_name": "LayoutModel",
          "model_module_version": "1.2.0",
          "state": {
            "_model_module": "@jupyter-widgets/base",
            "_model_module_version": "1.2.0",
            "_model_name": "LayoutModel",
            "_view_count": null,
            "_view_module": "@jupyter-widgets/base",
            "_view_module_version": "1.2.0",
            "_view_name": "LayoutView",
            "align_content": null,
            "align_items": null,
            "align_self": null,
            "border": null,
            "bottom": null,
            "display": null,
            "flex": null,
            "flex_flow": null,
            "grid_area": null,
            "grid_auto_columns": null,
            "grid_auto_flow": null,
            "grid_auto_rows": null,
            "grid_column": null,
            "grid_gap": null,
            "grid_row": null,
            "grid_template_areas": null,
            "grid_template_columns": null,
            "grid_template_rows": null,
            "height": null,
            "justify_content": null,
            "justify_items": null,
            "left": null,
            "margin": null,
            "max_height": null,
            "max_width": null,
            "min_height": null,
            "min_width": null,
            "object_fit": null,
            "object_position": null,
            "order": null,
            "overflow": null,
            "overflow_x": null,
            "overflow_y": null,
            "padding": null,
            "right": null,
            "top": null,
            "visibility": null,
            "width": null
          }
        },
        "156aa8b338c3476aa4440edcdc286826": {
          "model_module": "@jupyter-widgets/controls",
          "model_name": "ProgressStyleModel",
          "model_module_version": "1.5.0",
          "state": {
            "_model_module": "@jupyter-widgets/controls",
            "_model_module_version": "1.5.0",
            "_model_name": "ProgressStyleModel",
            "_view_count": null,
            "_view_module": "@jupyter-widgets/base",
            "_view_module_version": "1.2.0",
            "_view_name": "StyleView",
            "bar_color": null,
            "description_width": ""
          }
        },
        "cce6644a53a64a2aa69533627779ba38": {
          "model_module": "@jupyter-widgets/base",
          "model_name": "LayoutModel",
          "model_module_version": "1.2.0",
          "state": {
            "_model_module": "@jupyter-widgets/base",
            "_model_module_version": "1.2.0",
            "_model_name": "LayoutModel",
            "_view_count": null,
            "_view_module": "@jupyter-widgets/base",
            "_view_module_version": "1.2.0",
            "_view_name": "LayoutView",
            "align_content": null,
            "align_items": null,
            "align_self": null,
            "border": null,
            "bottom": null,
            "display": null,
            "flex": null,
            "flex_flow": null,
            "grid_area": null,
            "grid_auto_columns": null,
            "grid_auto_flow": null,
            "grid_auto_rows": null,
            "grid_column": null,
            "grid_gap": null,
            "grid_row": null,
            "grid_template_areas": null,
            "grid_template_columns": null,
            "grid_template_rows": null,
            "height": null,
            "justify_content": null,
            "justify_items": null,
            "left": null,
            "margin": null,
            "max_height": null,
            "max_width": null,
            "min_height": null,
            "min_width": null,
            "object_fit": null,
            "object_position": null,
            "order": null,
            "overflow": null,
            "overflow_x": null,
            "overflow_y": null,
            "padding": null,
            "right": null,
            "top": null,
            "visibility": null,
            "width": null
          }
        },
        "d1c556199b1f4ac5a9c3bb7cf8ea76a5": {
          "model_module": "@jupyter-widgets/controls",
          "model_name": "DescriptionStyleModel",
          "model_module_version": "1.5.0",
          "state": {
            "_model_module": "@jupyter-widgets/controls",
            "_model_module_version": "1.5.0",
            "_model_name": "DescriptionStyleModel",
            "_view_count": null,
            "_view_module": "@jupyter-widgets/base",
            "_view_module_version": "1.2.0",
            "_view_name": "StyleView",
            "description_width": ""
          }
        },
        "cedcaae7f0f447ccacb6381d78cab58f": {
          "model_module": "@jupyter-widgets/controls",
          "model_name": "HBoxModel",
          "model_module_version": "1.5.0",
          "state": {
            "_dom_classes": [],
            "_model_module": "@jupyter-widgets/controls",
            "_model_module_version": "1.5.0",
            "_model_name": "HBoxModel",
            "_view_count": null,
            "_view_module": "@jupyter-widgets/controls",
            "_view_module_version": "1.5.0",
            "_view_name": "HBoxView",
            "box_style": "",
            "children": [
              "IPY_MODEL_a7ab1ce445914e039e2f7ffc4fd3874b",
              "IPY_MODEL_fe07e4a066c24c9e9670bf161ef460a3",
              "IPY_MODEL_a3956d6fd10f4809b95f01888ee4583e"
            ],
            "layout": "IPY_MODEL_71ee4f42213740c481f9a582d05a7e5a"
          }
        },
        "a7ab1ce445914e039e2f7ffc4fd3874b": {
          "model_module": "@jupyter-widgets/controls",
          "model_name": "HTMLModel",
          "model_module_version": "1.5.0",
          "state": {
            "_dom_classes": [],
            "_model_module": "@jupyter-widgets/controls",
            "_model_module_version": "1.5.0",
            "_model_name": "HTMLModel",
            "_view_count": null,
            "_view_module": "@jupyter-widgets/controls",
            "_view_module_version": "1.5.0",
            "_view_name": "HTMLView",
            "description": "",
            "description_tooltip": null,
            "layout": "IPY_MODEL_d61b341734b74386a9a19fe128208619",
            "placeholder": "​",
            "style": "IPY_MODEL_8bf9c78e5c33423798b26b35694701e3",
            "value": "vocab.json: "
          }
        },
        "fe07e4a066c24c9e9670bf161ef460a3": {
          "model_module": "@jupyter-widgets/controls",
          "model_name": "FloatProgressModel",
          "model_module_version": "1.5.0",
          "state": {
            "_dom_classes": [],
            "_model_module": "@jupyter-widgets/controls",
            "_model_module_version": "1.5.0",
            "_model_name": "FloatProgressModel",
            "_view_count": null,
            "_view_module": "@jupyter-widgets/controls",
            "_view_module_version": "1.5.0",
            "_view_name": "ProgressView",
            "bar_style": "success",
            "description": "",
            "description_tooltip": null,
            "layout": "IPY_MODEL_504e4b44878a4ade98d22335fb826290",
            "max": 1,
            "min": 0,
            "orientation": "horizontal",
            "style": "IPY_MODEL_800553e8d26a4a238cccc328e6bd7458",
            "value": 1
          }
        },
        "a3956d6fd10f4809b95f01888ee4583e": {
          "model_module": "@jupyter-widgets/controls",
          "model_name": "HTMLModel",
          "model_module_version": "1.5.0",
          "state": {
            "_dom_classes": [],
            "_model_module": "@jupyter-widgets/controls",
            "_model_module_version": "1.5.0",
            "_model_name": "HTMLModel",
            "_view_count": null,
            "_view_module": "@jupyter-widgets/controls",
            "_view_module_version": "1.5.0",
            "_view_name": "HTMLView",
            "description": "",
            "description_tooltip": null,
            "layout": "IPY_MODEL_937fc4ff7e05406e8795586b2078c3bc",
            "placeholder": "​",
            "style": "IPY_MODEL_9a0500d17d15464fad5cd793766c5808",
            "value": " 862k/? [00:00&lt;00:00, 39.8MB/s]"
          }
        },
        "71ee4f42213740c481f9a582d05a7e5a": {
          "model_module": "@jupyter-widgets/base",
          "model_name": "LayoutModel",
          "model_module_version": "1.2.0",
          "state": {
            "_model_module": "@jupyter-widgets/base",
            "_model_module_version": "1.2.0",
            "_model_name": "LayoutModel",
            "_view_count": null,
            "_view_module": "@jupyter-widgets/base",
            "_view_module_version": "1.2.0",
            "_view_name": "LayoutView",
            "align_content": null,
            "align_items": null,
            "align_self": null,
            "border": null,
            "bottom": null,
            "display": null,
            "flex": null,
            "flex_flow": null,
            "grid_area": null,
            "grid_auto_columns": null,
            "grid_auto_flow": null,
            "grid_auto_rows": null,
            "grid_column": null,
            "grid_gap": null,
            "grid_row": null,
            "grid_template_areas": null,
            "grid_template_columns": null,
            "grid_template_rows": null,
            "height": null,
            "justify_content": null,
            "justify_items": null,
            "left": null,
            "margin": null,
            "max_height": null,
            "max_width": null,
            "min_height": null,
            "min_width": null,
            "object_fit": null,
            "object_position": null,
            "order": null,
            "overflow": null,
            "overflow_x": null,
            "overflow_y": null,
            "padding": null,
            "right": null,
            "top": null,
            "visibility": null,
            "width": null
          }
        },
        "d61b341734b74386a9a19fe128208619": {
          "model_module": "@jupyter-widgets/base",
          "model_name": "LayoutModel",
          "model_module_version": "1.2.0",
          "state": {
            "_model_module": "@jupyter-widgets/base",
            "_model_module_version": "1.2.0",
            "_model_name": "LayoutModel",
            "_view_count": null,
            "_view_module": "@jupyter-widgets/base",
            "_view_module_version": "1.2.0",
            "_view_name": "LayoutView",
            "align_content": null,
            "align_items": null,
            "align_self": null,
            "border": null,
            "bottom": null,
            "display": null,
            "flex": null,
            "flex_flow": null,
            "grid_area": null,
            "grid_auto_columns": null,
            "grid_auto_flow": null,
            "grid_auto_rows": null,
            "grid_column": null,
            "grid_gap": null,
            "grid_row": null,
            "grid_template_areas": null,
            "grid_template_columns": null,
            "grid_template_rows": null,
            "height": null,
            "justify_content": null,
            "justify_items": null,
            "left": null,
            "margin": null,
            "max_height": null,
            "max_width": null,
            "min_height": null,
            "min_width": null,
            "object_fit": null,
            "object_position": null,
            "order": null,
            "overflow": null,
            "overflow_x": null,
            "overflow_y": null,
            "padding": null,
            "right": null,
            "top": null,
            "visibility": null,
            "width": null
          }
        },
        "8bf9c78e5c33423798b26b35694701e3": {
          "model_module": "@jupyter-widgets/controls",
          "model_name": "DescriptionStyleModel",
          "model_module_version": "1.5.0",
          "state": {
            "_model_module": "@jupyter-widgets/controls",
            "_model_module_version": "1.5.0",
            "_model_name": "DescriptionStyleModel",
            "_view_count": null,
            "_view_module": "@jupyter-widgets/base",
            "_view_module_version": "1.2.0",
            "_view_name": "StyleView",
            "description_width": ""
          }
        },
        "504e4b44878a4ade98d22335fb826290": {
          "model_module": "@jupyter-widgets/base",
          "model_name": "LayoutModel",
          "model_module_version": "1.2.0",
          "state": {
            "_model_module": "@jupyter-widgets/base",
            "_model_module_version": "1.2.0",
            "_model_name": "LayoutModel",
            "_view_count": null,
            "_view_module": "@jupyter-widgets/base",
            "_view_module_version": "1.2.0",
            "_view_name": "LayoutView",
            "align_content": null,
            "align_items": null,
            "align_self": null,
            "border": null,
            "bottom": null,
            "display": null,
            "flex": null,
            "flex_flow": null,
            "grid_area": null,
            "grid_auto_columns": null,
            "grid_auto_flow": null,
            "grid_auto_rows": null,
            "grid_column": null,
            "grid_gap": null,
            "grid_row": null,
            "grid_template_areas": null,
            "grid_template_columns": null,
            "grid_template_rows": null,
            "height": null,
            "justify_content": null,
            "justify_items": null,
            "left": null,
            "margin": null,
            "max_height": null,
            "max_width": null,
            "min_height": null,
            "min_width": null,
            "object_fit": null,
            "object_position": null,
            "order": null,
            "overflow": null,
            "overflow_x": null,
            "overflow_y": null,
            "padding": null,
            "right": null,
            "top": null,
            "visibility": null,
            "width": "20px"
          }
        },
        "800553e8d26a4a238cccc328e6bd7458": {
          "model_module": "@jupyter-widgets/controls",
          "model_name": "ProgressStyleModel",
          "model_module_version": "1.5.0",
          "state": {
            "_model_module": "@jupyter-widgets/controls",
            "_model_module_version": "1.5.0",
            "_model_name": "ProgressStyleModel",
            "_view_count": null,
            "_view_module": "@jupyter-widgets/base",
            "_view_module_version": "1.2.0",
            "_view_name": "StyleView",
            "bar_color": null,
            "description_width": ""
          }
        },
        "937fc4ff7e05406e8795586b2078c3bc": {
          "model_module": "@jupyter-widgets/base",
          "model_name": "LayoutModel",
          "model_module_version": "1.2.0",
          "state": {
            "_model_module": "@jupyter-widgets/base",
            "_model_module_version": "1.2.0",
            "_model_name": "LayoutModel",
            "_view_count": null,
            "_view_module": "@jupyter-widgets/base",
            "_view_module_version": "1.2.0",
            "_view_name": "LayoutView",
            "align_content": null,
            "align_items": null,
            "align_self": null,
            "border": null,
            "bottom": null,
            "display": null,
            "flex": null,
            "flex_flow": null,
            "grid_area": null,
            "grid_auto_columns": null,
            "grid_auto_flow": null,
            "grid_auto_rows": null,
            "grid_column": null,
            "grid_gap": null,
            "grid_row": null,
            "grid_template_areas": null,
            "grid_template_columns": null,
            "grid_template_rows": null,
            "height": null,
            "justify_content": null,
            "justify_items": null,
            "left": null,
            "margin": null,
            "max_height": null,
            "max_width": null,
            "min_height": null,
            "min_width": null,
            "object_fit": null,
            "object_position": null,
            "order": null,
            "overflow": null,
            "overflow_x": null,
            "overflow_y": null,
            "padding": null,
            "right": null,
            "top": null,
            "visibility": null,
            "width": null
          }
        },
        "9a0500d17d15464fad5cd793766c5808": {
          "model_module": "@jupyter-widgets/controls",
          "model_name": "DescriptionStyleModel",
          "model_module_version": "1.5.0",
          "state": {
            "_model_module": "@jupyter-widgets/controls",
            "_model_module_version": "1.5.0",
            "_model_name": "DescriptionStyleModel",
            "_view_count": null,
            "_view_module": "@jupyter-widgets/base",
            "_view_module_version": "1.2.0",
            "_view_name": "StyleView",
            "description_width": ""
          }
        },
        "007c7f65f3c44e79a3d7d58ad7015e40": {
          "model_module": "@jupyter-widgets/controls",
          "model_name": "HBoxModel",
          "model_module_version": "1.5.0",
          "state": {
            "_dom_classes": [],
            "_model_module": "@jupyter-widgets/controls",
            "_model_module_version": "1.5.0",
            "_model_name": "HBoxModel",
            "_view_count": null,
            "_view_module": "@jupyter-widgets/controls",
            "_view_module_version": "1.5.0",
            "_view_name": "HBoxView",
            "box_style": "",
            "children": [
              "IPY_MODEL_783b3bf2990149ba98beffdf26c951dd",
              "IPY_MODEL_230c1078f78549bfa19d89d754fcaa6b",
              "IPY_MODEL_62654e092e5a451c896baa3e325312c4"
            ],
            "layout": "IPY_MODEL_ad13eb4b18e04d969ff1d0bd54a62918"
          }
        },
        "783b3bf2990149ba98beffdf26c951dd": {
          "model_module": "@jupyter-widgets/controls",
          "model_name": "HTMLModel",
          "model_module_version": "1.5.0",
          "state": {
            "_dom_classes": [],
            "_model_module": "@jupyter-widgets/controls",
            "_model_module_version": "1.5.0",
            "_model_name": "HTMLModel",
            "_view_count": null,
            "_view_module": "@jupyter-widgets/controls",
            "_view_module_version": "1.5.0",
            "_view_name": "HTMLView",
            "description": "",
            "description_tooltip": null,
            "layout": "IPY_MODEL_e947fa2f67ec4e7b9f98bd29250b325f",
            "placeholder": "​",
            "style": "IPY_MODEL_b3e58f06f9a344bd8bde4783605c47cf",
            "value": "merges.txt: "
          }
        },
        "230c1078f78549bfa19d89d754fcaa6b": {
          "model_module": "@jupyter-widgets/controls",
          "model_name": "FloatProgressModel",
          "model_module_version": "1.5.0",
          "state": {
            "_dom_classes": [],
            "_model_module": "@jupyter-widgets/controls",
            "_model_module_version": "1.5.0",
            "_model_name": "FloatProgressModel",
            "_view_count": null,
            "_view_module": "@jupyter-widgets/controls",
            "_view_module_version": "1.5.0",
            "_view_name": "ProgressView",
            "bar_style": "success",
            "description": "",
            "description_tooltip": null,
            "layout": "IPY_MODEL_e85881b42ad3460796fde4268a8db4f4",
            "max": 1,
            "min": 0,
            "orientation": "horizontal",
            "style": "IPY_MODEL_0d481767e2eb4264b44a3164c856ccad",
            "value": 1
          }
        },
        "62654e092e5a451c896baa3e325312c4": {
          "model_module": "@jupyter-widgets/controls",
          "model_name": "HTMLModel",
          "model_module_version": "1.5.0",
          "state": {
            "_dom_classes": [],
            "_model_module": "@jupyter-widgets/controls",
            "_model_module_version": "1.5.0",
            "_model_name": "HTMLModel",
            "_view_count": null,
            "_view_module": "@jupyter-widgets/controls",
            "_view_module_version": "1.5.0",
            "_view_name": "HTMLView",
            "description": "",
            "description_tooltip": null,
            "layout": "IPY_MODEL_4d85f92332f14ff7b6d24c65be098433",
            "placeholder": "​",
            "style": "IPY_MODEL_e983341e58134b67baca0d3a105d7c10",
            "value": " 525k/? [00:00&lt;00:00, 39.0MB/s]"
          }
        },
        "ad13eb4b18e04d969ff1d0bd54a62918": {
          "model_module": "@jupyter-widgets/base",
          "model_name": "LayoutModel",
          "model_module_version": "1.2.0",
          "state": {
            "_model_module": "@jupyter-widgets/base",
            "_model_module_version": "1.2.0",
            "_model_name": "LayoutModel",
            "_view_count": null,
            "_view_module": "@jupyter-widgets/base",
            "_view_module_version": "1.2.0",
            "_view_name": "LayoutView",
            "align_content": null,
            "align_items": null,
            "align_self": null,
            "border": null,
            "bottom": null,
            "display": null,
            "flex": null,
            "flex_flow": null,
            "grid_area": null,
            "grid_auto_columns": null,
            "grid_auto_flow": null,
            "grid_auto_rows": null,
            "grid_column": null,
            "grid_gap": null,
            "grid_row": null,
            "grid_template_areas": null,
            "grid_template_columns": null,
            "grid_template_rows": null,
            "height": null,
            "justify_content": null,
            "justify_items": null,
            "left": null,
            "margin": null,
            "max_height": null,
            "max_width": null,
            "min_height": null,
            "min_width": null,
            "object_fit": null,
            "object_position": null,
            "order": null,
            "overflow": null,
            "overflow_x": null,
            "overflow_y": null,
            "padding": null,
            "right": null,
            "top": null,
            "visibility": null,
            "width": null
          }
        },
        "e947fa2f67ec4e7b9f98bd29250b325f": {
          "model_module": "@jupyter-widgets/base",
          "model_name": "LayoutModel",
          "model_module_version": "1.2.0",
          "state": {
            "_model_module": "@jupyter-widgets/base",
            "_model_module_version": "1.2.0",
            "_model_name": "LayoutModel",
            "_view_count": null,
            "_view_module": "@jupyter-widgets/base",
            "_view_module_version": "1.2.0",
            "_view_name": "LayoutView",
            "align_content": null,
            "align_items": null,
            "align_self": null,
            "border": null,
            "bottom": null,
            "display": null,
            "flex": null,
            "flex_flow": null,
            "grid_area": null,
            "grid_auto_columns": null,
            "grid_auto_flow": null,
            "grid_auto_rows": null,
            "grid_column": null,
            "grid_gap": null,
            "grid_row": null,
            "grid_template_areas": null,
            "grid_template_columns": null,
            "grid_template_rows": null,
            "height": null,
            "justify_content": null,
            "justify_items": null,
            "left": null,
            "margin": null,
            "max_height": null,
            "max_width": null,
            "min_height": null,
            "min_width": null,
            "object_fit": null,
            "object_position": null,
            "order": null,
            "overflow": null,
            "overflow_x": null,
            "overflow_y": null,
            "padding": null,
            "right": null,
            "top": null,
            "visibility": null,
            "width": null
          }
        },
        "b3e58f06f9a344bd8bde4783605c47cf": {
          "model_module": "@jupyter-widgets/controls",
          "model_name": "DescriptionStyleModel",
          "model_module_version": "1.5.0",
          "state": {
            "_model_module": "@jupyter-widgets/controls",
            "_model_module_version": "1.5.0",
            "_model_name": "DescriptionStyleModel",
            "_view_count": null,
            "_view_module": "@jupyter-widgets/base",
            "_view_module_version": "1.2.0",
            "_view_name": "StyleView",
            "description_width": ""
          }
        },
        "e85881b42ad3460796fde4268a8db4f4": {
          "model_module": "@jupyter-widgets/base",
          "model_name": "LayoutModel",
          "model_module_version": "1.2.0",
          "state": {
            "_model_module": "@jupyter-widgets/base",
            "_model_module_version": "1.2.0",
            "_model_name": "LayoutModel",
            "_view_count": null,
            "_view_module": "@jupyter-widgets/base",
            "_view_module_version": "1.2.0",
            "_view_name": "LayoutView",
            "align_content": null,
            "align_items": null,
            "align_self": null,
            "border": null,
            "bottom": null,
            "display": null,
            "flex": null,
            "flex_flow": null,
            "grid_area": null,
            "grid_auto_columns": null,
            "grid_auto_flow": null,
            "grid_auto_rows": null,
            "grid_column": null,
            "grid_gap": null,
            "grid_row": null,
            "grid_template_areas": null,
            "grid_template_columns": null,
            "grid_template_rows": null,
            "height": null,
            "justify_content": null,
            "justify_items": null,
            "left": null,
            "margin": null,
            "max_height": null,
            "max_width": null,
            "min_height": null,
            "min_width": null,
            "object_fit": null,
            "object_position": null,
            "order": null,
            "overflow": null,
            "overflow_x": null,
            "overflow_y": null,
            "padding": null,
            "right": null,
            "top": null,
            "visibility": null,
            "width": "20px"
          }
        },
        "0d481767e2eb4264b44a3164c856ccad": {
          "model_module": "@jupyter-widgets/controls",
          "model_name": "ProgressStyleModel",
          "model_module_version": "1.5.0",
          "state": {
            "_model_module": "@jupyter-widgets/controls",
            "_model_module_version": "1.5.0",
            "_model_name": "ProgressStyleModel",
            "_view_count": null,
            "_view_module": "@jupyter-widgets/base",
            "_view_module_version": "1.2.0",
            "_view_name": "StyleView",
            "bar_color": null,
            "description_width": ""
          }
        },
        "4d85f92332f14ff7b6d24c65be098433": {
          "model_module": "@jupyter-widgets/base",
          "model_name": "LayoutModel",
          "model_module_version": "1.2.0",
          "state": {
            "_model_module": "@jupyter-widgets/base",
            "_model_module_version": "1.2.0",
            "_model_name": "LayoutModel",
            "_view_count": null,
            "_view_module": "@jupyter-widgets/base",
            "_view_module_version": "1.2.0",
            "_view_name": "LayoutView",
            "align_content": null,
            "align_items": null,
            "align_self": null,
            "border": null,
            "bottom": null,
            "display": null,
            "flex": null,
            "flex_flow": null,
            "grid_area": null,
            "grid_auto_columns": null,
            "grid_auto_flow": null,
            "grid_auto_rows": null,
            "grid_column": null,
            "grid_gap": null,
            "grid_row": null,
            "grid_template_areas": null,
            "grid_template_columns": null,
            "grid_template_rows": null,
            "height": null,
            "justify_content": null,
            "justify_items": null,
            "left": null,
            "margin": null,
            "max_height": null,
            "max_width": null,
            "min_height": null,
            "min_width": null,
            "object_fit": null,
            "object_position": null,
            "order": null,
            "overflow": null,
            "overflow_x": null,
            "overflow_y": null,
            "padding": null,
            "right": null,
            "top": null,
            "visibility": null,
            "width": null
          }
        },
        "e983341e58134b67baca0d3a105d7c10": {
          "model_module": "@jupyter-widgets/controls",
          "model_name": "DescriptionStyleModel",
          "model_module_version": "1.5.0",
          "state": {
            "_model_module": "@jupyter-widgets/controls",
            "_model_module_version": "1.5.0",
            "_model_name": "DescriptionStyleModel",
            "_view_count": null,
            "_view_module": "@jupyter-widgets/base",
            "_view_module_version": "1.2.0",
            "_view_name": "StyleView",
            "description_width": ""
          }
        },
        "87902bc4f6024b6381618a86782b5f52": {
          "model_module": "@jupyter-widgets/controls",
          "model_name": "HBoxModel",
          "model_module_version": "1.5.0",
          "state": {
            "_dom_classes": [],
            "_model_module": "@jupyter-widgets/controls",
            "_model_module_version": "1.5.0",
            "_model_name": "HBoxModel",
            "_view_count": null,
            "_view_module": "@jupyter-widgets/controls",
            "_view_module_version": "1.5.0",
            "_view_name": "HBoxView",
            "box_style": "",
            "children": [
              "IPY_MODEL_1dcfaf7a4ef74c7982fbd867eeff1655",
              "IPY_MODEL_d8592ee673674ef0bfb43bd7768c7ccd",
              "IPY_MODEL_036251d80771406490e66e82a44c3b1c"
            ],
            "layout": "IPY_MODEL_c67a0e33ae594d6f803125492d39aa96"
          }
        },
        "1dcfaf7a4ef74c7982fbd867eeff1655": {
          "model_module": "@jupyter-widgets/controls",
          "model_name": "HTMLModel",
          "model_module_version": "1.5.0",
          "state": {
            "_dom_classes": [],
            "_model_module": "@jupyter-widgets/controls",
            "_model_module_version": "1.5.0",
            "_model_name": "HTMLModel",
            "_view_count": null,
            "_view_module": "@jupyter-widgets/controls",
            "_view_module_version": "1.5.0",
            "_view_name": "HTMLView",
            "description": "",
            "description_tooltip": null,
            "layout": "IPY_MODEL_3aa53e024b09428fa5efc15c0c8ebe2b",
            "placeholder": "​",
            "style": "IPY_MODEL_587a2f50d88e4fd9ab2ab8217b0919fd",
            "value": "model.safetensors: 100%"
          }
        },
        "d8592ee673674ef0bfb43bd7768c7ccd": {
          "model_module": "@jupyter-widgets/controls",
          "model_name": "FloatProgressModel",
          "model_module_version": "1.5.0",
          "state": {
            "_dom_classes": [],
            "_model_module": "@jupyter-widgets/controls",
            "_model_module_version": "1.5.0",
            "_model_name": "FloatProgressModel",
            "_view_count": null,
            "_view_module": "@jupyter-widgets/controls",
            "_view_module_version": "1.5.0",
            "_view_name": "ProgressView",
            "bar_style": "success",
            "description": "",
            "description_tooltip": null,
            "layout": "IPY_MODEL_96619d90a33c465e999dc7e0b6cd4394",
            "max": 605157884,
            "min": 0,
            "orientation": "horizontal",
            "style": "IPY_MODEL_8d30e3e41c6b4a42acc0c4ab455c08e1",
            "value": 605157884
          }
        },
        "036251d80771406490e66e82a44c3b1c": {
          "model_module": "@jupyter-widgets/controls",
          "model_name": "HTMLModel",
          "model_module_version": "1.5.0",
          "state": {
            "_dom_classes": [],
            "_model_module": "@jupyter-widgets/controls",
            "_model_module_version": "1.5.0",
            "_model_name": "HTMLModel",
            "_view_count": null,
            "_view_module": "@jupyter-widgets/controls",
            "_view_module_version": "1.5.0",
            "_view_name": "HTMLView",
            "description": "",
            "description_tooltip": null,
            "layout": "IPY_MODEL_fc6b8075a5004ac1b9d4fc5ce4a67e2a",
            "placeholder": "​",
            "style": "IPY_MODEL_9721ff1dfeb7477894e5ebf2a011eabe",
            "value": " 605M/605M [00:02&lt;00:00, 330MB/s]"
          }
        },
        "c67a0e33ae594d6f803125492d39aa96": {
          "model_module": "@jupyter-widgets/base",
          "model_name": "LayoutModel",
          "model_module_version": "1.2.0",
          "state": {
            "_model_module": "@jupyter-widgets/base",
            "_model_module_version": "1.2.0",
            "_model_name": "LayoutModel",
            "_view_count": null,
            "_view_module": "@jupyter-widgets/base",
            "_view_module_version": "1.2.0",
            "_view_name": "LayoutView",
            "align_content": null,
            "align_items": null,
            "align_self": null,
            "border": null,
            "bottom": null,
            "display": null,
            "flex": null,
            "flex_flow": null,
            "grid_area": null,
            "grid_auto_columns": null,
            "grid_auto_flow": null,
            "grid_auto_rows": null,
            "grid_column": null,
            "grid_gap": null,
            "grid_row": null,
            "grid_template_areas": null,
            "grid_template_columns": null,
            "grid_template_rows": null,
            "height": null,
            "justify_content": null,
            "justify_items": null,
            "left": null,
            "margin": null,
            "max_height": null,
            "max_width": null,
            "min_height": null,
            "min_width": null,
            "object_fit": null,
            "object_position": null,
            "order": null,
            "overflow": null,
            "overflow_x": null,
            "overflow_y": null,
            "padding": null,
            "right": null,
            "top": null,
            "visibility": null,
            "width": null
          }
        },
        "3aa53e024b09428fa5efc15c0c8ebe2b": {
          "model_module": "@jupyter-widgets/base",
          "model_name": "LayoutModel",
          "model_module_version": "1.2.0",
          "state": {
            "_model_module": "@jupyter-widgets/base",
            "_model_module_version": "1.2.0",
            "_model_name": "LayoutModel",
            "_view_count": null,
            "_view_module": "@jupyter-widgets/base",
            "_view_module_version": "1.2.0",
            "_view_name": "LayoutView",
            "align_content": null,
            "align_items": null,
            "align_self": null,
            "border": null,
            "bottom": null,
            "display": null,
            "flex": null,
            "flex_flow": null,
            "grid_area": null,
            "grid_auto_columns": null,
            "grid_auto_flow": null,
            "grid_auto_rows": null,
            "grid_column": null,
            "grid_gap": null,
            "grid_row": null,
            "grid_template_areas": null,
            "grid_template_columns": null,
            "grid_template_rows": null,
            "height": null,
            "justify_content": null,
            "justify_items": null,
            "left": null,
            "margin": null,
            "max_height": null,
            "max_width": null,
            "min_height": null,
            "min_width": null,
            "object_fit": null,
            "object_position": null,
            "order": null,
            "overflow": null,
            "overflow_x": null,
            "overflow_y": null,
            "padding": null,
            "right": null,
            "top": null,
            "visibility": null,
            "width": null
          }
        },
        "587a2f50d88e4fd9ab2ab8217b0919fd": {
          "model_module": "@jupyter-widgets/controls",
          "model_name": "DescriptionStyleModel",
          "model_module_version": "1.5.0",
          "state": {
            "_model_module": "@jupyter-widgets/controls",
            "_model_module_version": "1.5.0",
            "_model_name": "DescriptionStyleModel",
            "_view_count": null,
            "_view_module": "@jupyter-widgets/base",
            "_view_module_version": "1.2.0",
            "_view_name": "StyleView",
            "description_width": ""
          }
        },
        "96619d90a33c465e999dc7e0b6cd4394": {
          "model_module": "@jupyter-widgets/base",
          "model_name": "LayoutModel",
          "model_module_version": "1.2.0",
          "state": {
            "_model_module": "@jupyter-widgets/base",
            "_model_module_version": "1.2.0",
            "_model_name": "LayoutModel",
            "_view_count": null,
            "_view_module": "@jupyter-widgets/base",
            "_view_module_version": "1.2.0",
            "_view_name": "LayoutView",
            "align_content": null,
            "align_items": null,
            "align_self": null,
            "border": null,
            "bottom": null,
            "display": null,
            "flex": null,
            "flex_flow": null,
            "grid_area": null,
            "grid_auto_columns": null,
            "grid_auto_flow": null,
            "grid_auto_rows": null,
            "grid_column": null,
            "grid_gap": null,
            "grid_row": null,
            "grid_template_areas": null,
            "grid_template_columns": null,
            "grid_template_rows": null,
            "height": null,
            "justify_content": null,
            "justify_items": null,
            "left": null,
            "margin": null,
            "max_height": null,
            "max_width": null,
            "min_height": null,
            "min_width": null,
            "object_fit": null,
            "object_position": null,
            "order": null,
            "overflow": null,
            "overflow_x": null,
            "overflow_y": null,
            "padding": null,
            "right": null,
            "top": null,
            "visibility": null,
            "width": null
          }
        },
        "8d30e3e41c6b4a42acc0c4ab455c08e1": {
          "model_module": "@jupyter-widgets/controls",
          "model_name": "ProgressStyleModel",
          "model_module_version": "1.5.0",
          "state": {
            "_model_module": "@jupyter-widgets/controls",
            "_model_module_version": "1.5.0",
            "_model_name": "ProgressStyleModel",
            "_view_count": null,
            "_view_module": "@jupyter-widgets/base",
            "_view_module_version": "1.2.0",
            "_view_name": "StyleView",
            "bar_color": null,
            "description_width": ""
          }
        },
        "fc6b8075a5004ac1b9d4fc5ce4a67e2a": {
          "model_module": "@jupyter-widgets/base",
          "model_name": "LayoutModel",
          "model_module_version": "1.2.0",
          "state": {
            "_model_module": "@jupyter-widgets/base",
            "_model_module_version": "1.2.0",
            "_model_name": "LayoutModel",
            "_view_count": null,
            "_view_module": "@jupyter-widgets/base",
            "_view_module_version": "1.2.0",
            "_view_name": "LayoutView",
            "align_content": null,
            "align_items": null,
            "align_self": null,
            "border": null,
            "bottom": null,
            "display": null,
            "flex": null,
            "flex_flow": null,
            "grid_area": null,
            "grid_auto_columns": null,
            "grid_auto_flow": null,
            "grid_auto_rows": null,
            "grid_column": null,
            "grid_gap": null,
            "grid_row": null,
            "grid_template_areas": null,
            "grid_template_columns": null,
            "grid_template_rows": null,
            "height": null,
            "justify_content": null,
            "justify_items": null,
            "left": null,
            "margin": null,
            "max_height": null,
            "max_width": null,
            "min_height": null,
            "min_width": null,
            "object_fit": null,
            "object_position": null,
            "order": null,
            "overflow": null,
            "overflow_x": null,
            "overflow_y": null,
            "padding": null,
            "right": null,
            "top": null,
            "visibility": null,
            "width": null
          }
        },
        "9721ff1dfeb7477894e5ebf2a011eabe": {
          "model_module": "@jupyter-widgets/controls",
          "model_name": "DescriptionStyleModel",
          "model_module_version": "1.5.0",
          "state": {
            "_model_module": "@jupyter-widgets/controls",
            "_model_module_version": "1.5.0",
            "_model_name": "DescriptionStyleModel",
            "_view_count": null,
            "_view_module": "@jupyter-widgets/base",
            "_view_module_version": "1.2.0",
            "_view_name": "StyleView",
            "description_width": ""
          }
        },
        "626b837671dd4434b1839e9c0c62414e": {
          "model_module": "@jupyter-widgets/controls",
          "model_name": "HBoxModel",
          "model_module_version": "1.5.0",
          "state": {
            "_dom_classes": [],
            "_model_module": "@jupyter-widgets/controls",
            "_model_module_version": "1.5.0",
            "_model_name": "HBoxModel",
            "_view_count": null,
            "_view_module": "@jupyter-widgets/controls",
            "_view_module_version": "1.5.0",
            "_view_name": "HBoxView",
            "box_style": "",
            "children": [
              "IPY_MODEL_e7225fcd8a8f48d1bc30d3fec44ac73d",
              "IPY_MODEL_2608aee69b9c44798afee4980f88ed11",
              "IPY_MODEL_a81bbdbed4994660ad480cf981c5c154"
            ],
            "layout": "IPY_MODEL_e09796f998f84b0ea577944d70b9029e"
          }
        },
        "e7225fcd8a8f48d1bc30d3fec44ac73d": {
          "model_module": "@jupyter-widgets/controls",
          "model_name": "HTMLModel",
          "model_module_version": "1.5.0",
          "state": {
            "_dom_classes": [],
            "_model_module": "@jupyter-widgets/controls",
            "_model_module_version": "1.5.0",
            "_model_name": "HTMLModel",
            "_view_count": null,
            "_view_module": "@jupyter-widgets/controls",
            "_view_module_version": "1.5.0",
            "_view_name": "HTMLView",
            "description": "",
            "description_tooltip": null,
            "layout": "IPY_MODEL_ffa82d5169754ece948ab1d6803a7d58",
            "placeholder": "​",
            "style": "IPY_MODEL_458dd8ae93c14301b7db35073681ca03",
            "value": "special_tokens_map.json: 100%"
          }
        },
        "2608aee69b9c44798afee4980f88ed11": {
          "model_module": "@jupyter-widgets/controls",
          "model_name": "FloatProgressModel",
          "model_module_version": "1.5.0",
          "state": {
            "_dom_classes": [],
            "_model_module": "@jupyter-widgets/controls",
            "_model_module_version": "1.5.0",
            "_model_name": "FloatProgressModel",
            "_view_count": null,
            "_view_module": "@jupyter-widgets/controls",
            "_view_module_version": "1.5.0",
            "_view_name": "ProgressView",
            "bar_style": "success",
            "description": "",
            "description_tooltip": null,
            "layout": "IPY_MODEL_061b9df111544341b7b06a8ed34098a4",
            "max": 389,
            "min": 0,
            "orientation": "horizontal",
            "style": "IPY_MODEL_05c460efdee34779b9773e20d08d66ce",
            "value": 389
          }
        },
        "a81bbdbed4994660ad480cf981c5c154": {
          "model_module": "@jupyter-widgets/controls",
          "model_name": "HTMLModel",
          "model_module_version": "1.5.0",
          "state": {
            "_dom_classes": [],
            "_model_module": "@jupyter-widgets/controls",
            "_model_module_version": "1.5.0",
            "_model_name": "HTMLModel",
            "_view_count": null,
            "_view_module": "@jupyter-widgets/controls",
            "_view_module_version": "1.5.0",
            "_view_name": "HTMLView",
            "description": "",
            "description_tooltip": null,
            "layout": "IPY_MODEL_5f0163be05b04ccabaf74bf8db6207fa",
            "placeholder": "​",
            "style": "IPY_MODEL_64ef18d0b91f4579a32a1da56de4448a",
            "value": " 389/389 [00:00&lt;00:00, 54.5kB/s]"
          }
        },
        "e09796f998f84b0ea577944d70b9029e": {
          "model_module": "@jupyter-widgets/base",
          "model_name": "LayoutModel",
          "model_module_version": "1.2.0",
          "state": {
            "_model_module": "@jupyter-widgets/base",
            "_model_module_version": "1.2.0",
            "_model_name": "LayoutModel",
            "_view_count": null,
            "_view_module": "@jupyter-widgets/base",
            "_view_module_version": "1.2.0",
            "_view_name": "LayoutView",
            "align_content": null,
            "align_items": null,
            "align_self": null,
            "border": null,
            "bottom": null,
            "display": null,
            "flex": null,
            "flex_flow": null,
            "grid_area": null,
            "grid_auto_columns": null,
            "grid_auto_flow": null,
            "grid_auto_rows": null,
            "grid_column": null,
            "grid_gap": null,
            "grid_row": null,
            "grid_template_areas": null,
            "grid_template_columns": null,
            "grid_template_rows": null,
            "height": null,
            "justify_content": null,
            "justify_items": null,
            "left": null,
            "margin": null,
            "max_height": null,
            "max_width": null,
            "min_height": null,
            "min_width": null,
            "object_fit": null,
            "object_position": null,
            "order": null,
            "overflow": null,
            "overflow_x": null,
            "overflow_y": null,
            "padding": null,
            "right": null,
            "top": null,
            "visibility": null,
            "width": null
          }
        },
        "ffa82d5169754ece948ab1d6803a7d58": {
          "model_module": "@jupyter-widgets/base",
          "model_name": "LayoutModel",
          "model_module_version": "1.2.0",
          "state": {
            "_model_module": "@jupyter-widgets/base",
            "_model_module_version": "1.2.0",
            "_model_name": "LayoutModel",
            "_view_count": null,
            "_view_module": "@jupyter-widgets/base",
            "_view_module_version": "1.2.0",
            "_view_name": "LayoutView",
            "align_content": null,
            "align_items": null,
            "align_self": null,
            "border": null,
            "bottom": null,
            "display": null,
            "flex": null,
            "flex_flow": null,
            "grid_area": null,
            "grid_auto_columns": null,
            "grid_auto_flow": null,
            "grid_auto_rows": null,
            "grid_column": null,
            "grid_gap": null,
            "grid_row": null,
            "grid_template_areas": null,
            "grid_template_columns": null,
            "grid_template_rows": null,
            "height": null,
            "justify_content": null,
            "justify_items": null,
            "left": null,
            "margin": null,
            "max_height": null,
            "max_width": null,
            "min_height": null,
            "min_width": null,
            "object_fit": null,
            "object_position": null,
            "order": null,
            "overflow": null,
            "overflow_x": null,
            "overflow_y": null,
            "padding": null,
            "right": null,
            "top": null,
            "visibility": null,
            "width": null
          }
        },
        "458dd8ae93c14301b7db35073681ca03": {
          "model_module": "@jupyter-widgets/controls",
          "model_name": "DescriptionStyleModel",
          "model_module_version": "1.5.0",
          "state": {
            "_model_module": "@jupyter-widgets/controls",
            "_model_module_version": "1.5.0",
            "_model_name": "DescriptionStyleModel",
            "_view_count": null,
            "_view_module": "@jupyter-widgets/base",
            "_view_module_version": "1.2.0",
            "_view_name": "StyleView",
            "description_width": ""
          }
        },
        "061b9df111544341b7b06a8ed34098a4": {
          "model_module": "@jupyter-widgets/base",
          "model_name": "LayoutModel",
          "model_module_version": "1.2.0",
          "state": {
            "_model_module": "@jupyter-widgets/base",
            "_model_module_version": "1.2.0",
            "_model_name": "LayoutModel",
            "_view_count": null,
            "_view_module": "@jupyter-widgets/base",
            "_view_module_version": "1.2.0",
            "_view_name": "LayoutView",
            "align_content": null,
            "align_items": null,
            "align_self": null,
            "border": null,
            "bottom": null,
            "display": null,
            "flex": null,
            "flex_flow": null,
            "grid_area": null,
            "grid_auto_columns": null,
            "grid_auto_flow": null,
            "grid_auto_rows": null,
            "grid_column": null,
            "grid_gap": null,
            "grid_row": null,
            "grid_template_areas": null,
            "grid_template_columns": null,
            "grid_template_rows": null,
            "height": null,
            "justify_content": null,
            "justify_items": null,
            "left": null,
            "margin": null,
            "max_height": null,
            "max_width": null,
            "min_height": null,
            "min_width": null,
            "object_fit": null,
            "object_position": null,
            "order": null,
            "overflow": null,
            "overflow_x": null,
            "overflow_y": null,
            "padding": null,
            "right": null,
            "top": null,
            "visibility": null,
            "width": null
          }
        },
        "05c460efdee34779b9773e20d08d66ce": {
          "model_module": "@jupyter-widgets/controls",
          "model_name": "ProgressStyleModel",
          "model_module_version": "1.5.0",
          "state": {
            "_model_module": "@jupyter-widgets/controls",
            "_model_module_version": "1.5.0",
            "_model_name": "ProgressStyleModel",
            "_view_count": null,
            "_view_module": "@jupyter-widgets/base",
            "_view_module_version": "1.2.0",
            "_view_name": "StyleView",
            "bar_color": null,
            "description_width": ""
          }
        },
        "5f0163be05b04ccabaf74bf8db6207fa": {
          "model_module": "@jupyter-widgets/base",
          "model_name": "LayoutModel",
          "model_module_version": "1.2.0",
          "state": {
            "_model_module": "@jupyter-widgets/base",
            "_model_module_version": "1.2.0",
            "_model_name": "LayoutModel",
            "_view_count": null,
            "_view_module": "@jupyter-widgets/base",
            "_view_module_version": "1.2.0",
            "_view_name": "LayoutView",
            "align_content": null,
            "align_items": null,
            "align_self": null,
            "border": null,
            "bottom": null,
            "display": null,
            "flex": null,
            "flex_flow": null,
            "grid_area": null,
            "grid_auto_columns": null,
            "grid_auto_flow": null,
            "grid_auto_rows": null,
            "grid_column": null,
            "grid_gap": null,
            "grid_row": null,
            "grid_template_areas": null,
            "grid_template_columns": null,
            "grid_template_rows": null,
            "height": null,
            "justify_content": null,
            "justify_items": null,
            "left": null,
            "margin": null,
            "max_height": null,
            "max_width": null,
            "min_height": null,
            "min_width": null,
            "object_fit": null,
            "object_position": null,
            "order": null,
            "overflow": null,
            "overflow_x": null,
            "overflow_y": null,
            "padding": null,
            "right": null,
            "top": null,
            "visibility": null,
            "width": null
          }
        },
        "64ef18d0b91f4579a32a1da56de4448a": {
          "model_module": "@jupyter-widgets/controls",
          "model_name": "DescriptionStyleModel",
          "model_module_version": "1.5.0",
          "state": {
            "_model_module": "@jupyter-widgets/controls",
            "_model_module_version": "1.5.0",
            "_model_name": "DescriptionStyleModel",
            "_view_count": null,
            "_view_module": "@jupyter-widgets/base",
            "_view_module_version": "1.2.0",
            "_view_name": "StyleView",
            "description_width": ""
          }
        },
        "7497aba7e72d4b46890ac17d45e6f957": {
          "model_module": "@jupyter-widgets/controls",
          "model_name": "HBoxModel",
          "model_module_version": "1.5.0",
          "state": {
            "_dom_classes": [],
            "_model_module": "@jupyter-widgets/controls",
            "_model_module_version": "1.5.0",
            "_model_name": "HBoxModel",
            "_view_count": null,
            "_view_module": "@jupyter-widgets/controls",
            "_view_module_version": "1.5.0",
            "_view_name": "HBoxView",
            "box_style": "",
            "children": [
              "IPY_MODEL_f131fc675f174e1a96bebfbea9c67f21",
              "IPY_MODEL_56b39c8caac349b0957e596ebf115a5c",
              "IPY_MODEL_1b525e57a29847d0bd57920efb14962a"
            ],
            "layout": "IPY_MODEL_7a94bf4434d746b99a9e64ebd6c2a815"
          }
        },
        "f131fc675f174e1a96bebfbea9c67f21": {
          "model_module": "@jupyter-widgets/controls",
          "model_name": "HTMLModel",
          "model_module_version": "1.5.0",
          "state": {
            "_dom_classes": [],
            "_model_module": "@jupyter-widgets/controls",
            "_model_module_version": "1.5.0",
            "_model_name": "HTMLModel",
            "_view_count": null,
            "_view_module": "@jupyter-widgets/controls",
            "_view_module_version": "1.5.0",
            "_view_name": "HTMLView",
            "description": "",
            "description_tooltip": null,
            "layout": "IPY_MODEL_41a04241ff6a485bbfe1a938f93aa535",
            "placeholder": "​",
            "style": "IPY_MODEL_4ab549df0fb346d180fdc1f1600cf2e9",
            "value": "tokenizer.json: "
          }
        },
        "56b39c8caac349b0957e596ebf115a5c": {
          "model_module": "@jupyter-widgets/controls",
          "model_name": "FloatProgressModel",
          "model_module_version": "1.5.0",
          "state": {
            "_dom_classes": [],
            "_model_module": "@jupyter-widgets/controls",
            "_model_module_version": "1.5.0",
            "_model_name": "FloatProgressModel",
            "_view_count": null,
            "_view_module": "@jupyter-widgets/controls",
            "_view_module_version": "1.5.0",
            "_view_name": "ProgressView",
            "bar_style": "success",
            "description": "",
            "description_tooltip": null,
            "layout": "IPY_MODEL_d1be926ed7f44c7a921e52b6b0653942",
            "max": 1,
            "min": 0,
            "orientation": "horizontal",
            "style": "IPY_MODEL_c8b7963d24ec4727b9144f83d3ef7ec4",
            "value": 1
          }
        },
        "1b525e57a29847d0bd57920efb14962a": {
          "model_module": "@jupyter-widgets/controls",
          "model_name": "HTMLModel",
          "model_module_version": "1.5.0",
          "state": {
            "_dom_classes": [],
            "_model_module": "@jupyter-widgets/controls",
            "_model_module_version": "1.5.0",
            "_model_name": "HTMLModel",
            "_view_count": null,
            "_view_module": "@jupyter-widgets/controls",
            "_view_module_version": "1.5.0",
            "_view_name": "HTMLView",
            "description": "",
            "description_tooltip": null,
            "layout": "IPY_MODEL_5edb12295922419c88f71b14f4e24f38",
            "placeholder": "​",
            "style": "IPY_MODEL_115fa47a3ec147fe9aa9655a43530399",
            "value": " 2.22M/? [00:00&lt;00:00, 99.4MB/s]"
          }
        },
        "7a94bf4434d746b99a9e64ebd6c2a815": {
          "model_module": "@jupyter-widgets/base",
          "model_name": "LayoutModel",
          "model_module_version": "1.2.0",
          "state": {
            "_model_module": "@jupyter-widgets/base",
            "_model_module_version": "1.2.0",
            "_model_name": "LayoutModel",
            "_view_count": null,
            "_view_module": "@jupyter-widgets/base",
            "_view_module_version": "1.2.0",
            "_view_name": "LayoutView",
            "align_content": null,
            "align_items": null,
            "align_self": null,
            "border": null,
            "bottom": null,
            "display": null,
            "flex": null,
            "flex_flow": null,
            "grid_area": null,
            "grid_auto_columns": null,
            "grid_auto_flow": null,
            "grid_auto_rows": null,
            "grid_column": null,
            "grid_gap": null,
            "grid_row": null,
            "grid_template_areas": null,
            "grid_template_columns": null,
            "grid_template_rows": null,
            "height": null,
            "justify_content": null,
            "justify_items": null,
            "left": null,
            "margin": null,
            "max_height": null,
            "max_width": null,
            "min_height": null,
            "min_width": null,
            "object_fit": null,
            "object_position": null,
            "order": null,
            "overflow": null,
            "overflow_x": null,
            "overflow_y": null,
            "padding": null,
            "right": null,
            "top": null,
            "visibility": null,
            "width": null
          }
        },
        "41a04241ff6a485bbfe1a938f93aa535": {
          "model_module": "@jupyter-widgets/base",
          "model_name": "LayoutModel",
          "model_module_version": "1.2.0",
          "state": {
            "_model_module": "@jupyter-widgets/base",
            "_model_module_version": "1.2.0",
            "_model_name": "LayoutModel",
            "_view_count": null,
            "_view_module": "@jupyter-widgets/base",
            "_view_module_version": "1.2.0",
            "_view_name": "LayoutView",
            "align_content": null,
            "align_items": null,
            "align_self": null,
            "border": null,
            "bottom": null,
            "display": null,
            "flex": null,
            "flex_flow": null,
            "grid_area": null,
            "grid_auto_columns": null,
            "grid_auto_flow": null,
            "grid_auto_rows": null,
            "grid_column": null,
            "grid_gap": null,
            "grid_row": null,
            "grid_template_areas": null,
            "grid_template_columns": null,
            "grid_template_rows": null,
            "height": null,
            "justify_content": null,
            "justify_items": null,
            "left": null,
            "margin": null,
            "max_height": null,
            "max_width": null,
            "min_height": null,
            "min_width": null,
            "object_fit": null,
            "object_position": null,
            "order": null,
            "overflow": null,
            "overflow_x": null,
            "overflow_y": null,
            "padding": null,
            "right": null,
            "top": null,
            "visibility": null,
            "width": null
          }
        },
        "4ab549df0fb346d180fdc1f1600cf2e9": {
          "model_module": "@jupyter-widgets/controls",
          "model_name": "DescriptionStyleModel",
          "model_module_version": "1.5.0",
          "state": {
            "_model_module": "@jupyter-widgets/controls",
            "_model_module_version": "1.5.0",
            "_model_name": "DescriptionStyleModel",
            "_view_count": null,
            "_view_module": "@jupyter-widgets/base",
            "_view_module_version": "1.2.0",
            "_view_name": "StyleView",
            "description_width": ""
          }
        },
        "d1be926ed7f44c7a921e52b6b0653942": {
          "model_module": "@jupyter-widgets/base",
          "model_name": "LayoutModel",
          "model_module_version": "1.2.0",
          "state": {
            "_model_module": "@jupyter-widgets/base",
            "_model_module_version": "1.2.0",
            "_model_name": "LayoutModel",
            "_view_count": null,
            "_view_module": "@jupyter-widgets/base",
            "_view_module_version": "1.2.0",
            "_view_name": "LayoutView",
            "align_content": null,
            "align_items": null,
            "align_self": null,
            "border": null,
            "bottom": null,
            "display": null,
            "flex": null,
            "flex_flow": null,
            "grid_area": null,
            "grid_auto_columns": null,
            "grid_auto_flow": null,
            "grid_auto_rows": null,
            "grid_column": null,
            "grid_gap": null,
            "grid_row": null,
            "grid_template_areas": null,
            "grid_template_columns": null,
            "grid_template_rows": null,
            "height": null,
            "justify_content": null,
            "justify_items": null,
            "left": null,
            "margin": null,
            "max_height": null,
            "max_width": null,
            "min_height": null,
            "min_width": null,
            "object_fit": null,
            "object_position": null,
            "order": null,
            "overflow": null,
            "overflow_x": null,
            "overflow_y": null,
            "padding": null,
            "right": null,
            "top": null,
            "visibility": null,
            "width": "20px"
          }
        },
        "c8b7963d24ec4727b9144f83d3ef7ec4": {
          "model_module": "@jupyter-widgets/controls",
          "model_name": "ProgressStyleModel",
          "model_module_version": "1.5.0",
          "state": {
            "_model_module": "@jupyter-widgets/controls",
            "_model_module_version": "1.5.0",
            "_model_name": "ProgressStyleModel",
            "_view_count": null,
            "_view_module": "@jupyter-widgets/base",
            "_view_module_version": "1.2.0",
            "_view_name": "StyleView",
            "bar_color": null,
            "description_width": ""
          }
        },
        "5edb12295922419c88f71b14f4e24f38": {
          "model_module": "@jupyter-widgets/base",
          "model_name": "LayoutModel",
          "model_module_version": "1.2.0",
          "state": {
            "_model_module": "@jupyter-widgets/base",
            "_model_module_version": "1.2.0",
            "_model_name": "LayoutModel",
            "_view_count": null,
            "_view_module": "@jupyter-widgets/base",
            "_view_module_version": "1.2.0",
            "_view_name": "LayoutView",
            "align_content": null,
            "align_items": null,
            "align_self": null,
            "border": null,
            "bottom": null,
            "display": null,
            "flex": null,
            "flex_flow": null,
            "grid_area": null,
            "grid_auto_columns": null,
            "grid_auto_flow": null,
            "grid_auto_rows": null,
            "grid_column": null,
            "grid_gap": null,
            "grid_row": null,
            "grid_template_areas": null,
            "grid_template_columns": null,
            "grid_template_rows": null,
            "height": null,
            "justify_content": null,
            "justify_items": null,
            "left": null,
            "margin": null,
            "max_height": null,
            "max_width": null,
            "min_height": null,
            "min_width": null,
            "object_fit": null,
            "object_position": null,
            "order": null,
            "overflow": null,
            "overflow_x": null,
            "overflow_y": null,
            "padding": null,
            "right": null,
            "top": null,
            "visibility": null,
            "width": null
          }
        },
        "115fa47a3ec147fe9aa9655a43530399": {
          "model_module": "@jupyter-widgets/controls",
          "model_name": "DescriptionStyleModel",
          "model_module_version": "1.5.0",
          "state": {
            "_model_module": "@jupyter-widgets/controls",
            "_model_module_version": "1.5.0",
            "_model_name": "DescriptionStyleModel",
            "_view_count": null,
            "_view_module": "@jupyter-widgets/base",
            "_view_module_version": "1.2.0",
            "_view_name": "StyleView",
            "description_width": ""
          }
        }
      }
    }
  },
  "nbformat": 4,
  "nbformat_minor": 5
}